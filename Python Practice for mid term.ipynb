{
 "cells": [
  {
   "cell_type": "code",
   "execution_count": 1,
   "id": "d336c5a1",
   "metadata": {},
   "outputs": [
    {
     "name": "stdout",
     "output_type": "stream",
     "text": [
      "enter a number:9\n",
      "x is not a perfect cube\n"
     ]
    }
   ],
   "source": [
    "# Problem: Find the cube root of a perfect cube\n",
    "# Using while loop\n",
    "\n",
    "x = int(input(\"enter a number:\"))\n",
    "ans = 0\n",
    "while ans**3 < abs(x):\n",
    "    ans += 1\n",
    "if ans ** 3 != abs(x):\n",
    "    print(\"x is not a perfect cube\")\n",
    "else:\n",
    "    if x<0:\n",
    "        print(\"ans is: -\" + str(ans))\n",
    "    else:\n",
    "        print(\"ans is: \" + str(ans))"
   ]
  },
  {
   "cell_type": "code",
   "execution_count": 2,
   "id": "86b795d4",
   "metadata": {},
   "outputs": [
    {
     "name": "stdout",
     "output_type": "stream",
     "text": [
      "enter a number:8\n",
      "ans is: 2\n"
     ]
    }
   ],
   "source": [
    "# Find the cube root of a perfect cube\n",
    "# Using for loop\n",
    "\n",
    "\n",
    "x = int(input(\"enter a number:\"))\n",
    "for ans in range(0,abs(x)+1):\n",
    "    if ans**3 >= abs(x):\n",
    "        break\n",
    "if ans ** 3 != abs(x):\n",
    "    print(\"x is not a perfect cube\")\n",
    "else:\n",
    "    if x<0:\n",
    "        print(\"ans is: -\" + str(ans))\n",
    "    else:\n",
    "        print(\"ans is: \" + str(ans))"
   ]
  },
  {
   "cell_type": "code",
   "execution_count": 3,
   "id": "39862e15",
   "metadata": {},
   "outputs": [
    {
     "name": "stdout",
     "output_type": "stream",
     "text": [
      "{'name': 'soh'}\n"
     ]
    }
   ],
   "source": [
    "# Key should be unique\n",
    "\n",
    "my_dict={\"name\":\"Pree\",\"name\":\"soh\"}\n",
    "print(my_dict)"
   ]
  },
  {
   "cell_type": "code",
   "execution_count": 4,
   "id": "04e0806d",
   "metadata": {},
   "outputs": [
    {
     "name": "stdout",
     "output_type": "stream",
     "text": [
      "{'name': 'soh'}\n"
     ]
    }
   ],
   "source": [
    "# if a new value is assigned to a key that already exists ,it will simply overwrite the old one.\n",
    "my_dict={\"name\":\"Pree\",\"name\":\"soh\"}\n",
    "print(my_dict)"
   ]
  },
  {
   "cell_type": "code",
   "execution_count": 5,
   "id": "f17afccd",
   "metadata": {},
   "outputs": [
    {
     "data": {
      "text/plain": [
       "'soh'"
      ]
     },
     "execution_count": 5,
     "metadata": {},
     "output_type": "execute_result"
    }
   ],
   "source": [
    "my_dict[\"name\"]"
   ]
  },
  {
   "cell_type": "code",
   "execution_count": 6,
   "id": "71ebd06c",
   "metadata": {},
   "outputs": [
    {
     "name": "stdout",
     "output_type": "stream",
     "text": [
      "{'name': 'Pree', 'name1': 'Pree'}\n"
     ]
    }
   ],
   "source": [
    "my_dict1={\"name\":\"Pree\",\"name1\":\"Pree\"}\n",
    "print(my_dict1)"
   ]
  },
  {
   "cell_type": "code",
   "execution_count": 7,
   "id": "90d852c8",
   "metadata": {},
   "outputs": [
    {
     "data": {
      "text/plain": [
       "'Pree'"
      ]
     },
     "execution_count": 7,
     "metadata": {},
     "output_type": "execute_result"
    }
   ],
   "source": [
    "my_dict1[\"name\"]"
   ]
  },
  {
   "cell_type": "code",
   "execution_count": 8,
   "id": "22a2839e",
   "metadata": {},
   "outputs": [],
   "source": [
    "#print(my_dict1[\"name2\"])"
   ]
  },
  {
   "cell_type": "code",
   "execution_count": 9,
   "id": "a2132148",
   "metadata": {},
   "outputs": [
    {
     "data": {
      "text/plain": [
       "2"
      ]
     },
     "execution_count": 9,
     "metadata": {},
     "output_type": "execute_result"
    }
   ],
   "source": [
    "len(my_dict1)"
   ]
  },
  {
   "cell_type": "code",
   "execution_count": 10,
   "id": "3f21c1dc",
   "metadata": {},
   "outputs": [
    {
     "data": {
      "text/plain": [
       "True"
      ]
     },
     "execution_count": 10,
     "metadata": {},
     "output_type": "execute_result"
    }
   ],
   "source": [
    "\"name\" in my_dict1"
   ]
  },
  {
   "cell_type": "code",
   "execution_count": 11,
   "id": "78944529",
   "metadata": {},
   "outputs": [
    {
     "data": {
      "text/plain": [
       "False"
      ]
     },
     "execution_count": 11,
     "metadata": {},
     "output_type": "execute_result"
    }
   ],
   "source": [
    "\"Pree\" in my_dict"
   ]
  },
  {
   "cell_type": "code",
   "execution_count": 12,
   "id": "8612191d",
   "metadata": {},
   "outputs": [],
   "source": [
    "vals = my_dict.values()"
   ]
  },
  {
   "cell_type": "code",
   "execution_count": 13,
   "id": "dad6f0b2",
   "metadata": {},
   "outputs": [
    {
     "data": {
      "text/plain": [
       "False"
      ]
     },
     "execution_count": 13,
     "metadata": {},
     "output_type": "execute_result"
    }
   ],
   "source": [
    "\"Pree\" in vals"
   ]
  },
  {
   "cell_type": "code",
   "execution_count": 14,
   "id": "2aa08e52",
   "metadata": {},
   "outputs": [
    {
     "data": {
      "text/plain": [
       "'D:\\\\Praxis Business School\\\\First Term\\\\PY-Python\\\\2.10.02.2022\\\\Python_Prog_Set_2'"
      ]
     },
     "execution_count": 14,
     "metadata": {},
     "output_type": "execute_result"
    }
   ],
   "source": [
    "import os \n",
    "os.getcwd()"
   ]
  },
  {
   "cell_type": "code",
   "execution_count": 15,
   "id": "653d76e6",
   "metadata": {},
   "outputs": [
    {
     "name": "stdout",
     "output_type": "stream",
     "text": [
      "Python supports more than one programming paradigms\n",
      "including object-oriented programming and structured\n",
      "programming\n",
      "Python is an interpreted language and does\n",
      "not require an explicit complination step.\n"
     ]
    }
   ],
   "source": [
    "y = open(\"file.txt\",\"r\")\n",
    "x = y.read()\n",
    "print(x)"
   ]
  },
  {
   "cell_type": "code",
   "execution_count": 16,
   "id": "f742563c",
   "metadata": {},
   "outputs": [],
   "source": [
    "y.close()"
   ]
  },
  {
   "cell_type": "code",
   "execution_count": 17,
   "id": "6296a0ea",
   "metadata": {},
   "outputs": [
    {
     "name": "stdout",
     "output_type": "stream",
     "text": [
      "enter a number:7\n",
      "number of guess is :26439\n",
      "2.643900000001155 is the closest root\n"
     ]
    }
   ],
   "source": [
    "x= int(input(\"enter a number:\"))\n",
    "epsilon = 0.01\n",
    "step = epsilon ** 2\n",
    "num_guess = 0\n",
    "ans = 0.0\n",
    "\n",
    "while abs(ans**2 - x) >= epsilon and ans < x:\n",
    "    ans = ans + step\n",
    "    num_guess = num_guess +1\n",
    "print(\"number of guess is :\" + str(num_guess))\n",
    "if abs(ans**2-x) >= epsilon:\n",
    "    print(\"failed on square root\")\n",
    "else:\n",
    "    print(str(ans) + \" is the closest root\")"
   ]
  },
  {
   "cell_type": "code",
   "execution_count": 18,
   "id": "39b6ff51",
   "metadata": {},
   "outputs": [
    {
     "name": "stdout",
     "output_type": "stream",
     "text": [
      "numGuess =  9001\n",
      "0.9000999999999172\n",
      "Failed on square root of 0.9\n"
     ]
    }
   ],
   "source": [
    "x = 0.9\n",
    "epsilon = 0.01\n",
    "step = epsilon**2\n",
    "numGuess = 0\n",
    "ans = 0.0\n",
    "while abs(ans**2 - x) >= epsilon and ans<x:\n",
    "    ans += step\n",
    "    numGuess +=1\n",
    "print(\"numGuess = \", numGuess)\n",
    "print(ans)\n",
    "if abs(ans**2 - x) >= epsilon:\n",
    "    print(\"Failed on square root of\", x)\n",
    "else:\n",
    "    print(ans, \" is close to square root of \", x)\n",
    "    "
   ]
  },
  {
   "cell_type": "code",
   "execution_count": 19,
   "id": "5a4e96bb",
   "metadata": {},
   "outputs": [
    {
     "name": "stdout",
     "output_type": "stream",
     "text": [
      "max length word is: preetam\n",
      "7 is the max length of that word\n"
     ]
    }
   ],
   "source": [
    "# Takes a list of words and returns the length of the longest one\n",
    "\n",
    "def return_max_length_word(a):\n",
    "    max1 = len(a[0])\n",
    "    temp = a[0]\n",
    "    \n",
    "    for i in a:\n",
    "        if (len(i)> max1):\n",
    "            max1 = len(i)\n",
    "            temp = i\n",
    "    print(f\"max length word is: {temp}\")\n",
    "    print(f\"{max1} is the max length of that word\")\n",
    "\n",
    "a = [\"one\", \"two\", \"third\", \"four\",\"preetam\"]\n",
    "return_max_length_word(a)"
   ]
  },
  {
   "cell_type": "code",
   "execution_count": 20,
   "id": "c6bda034",
   "metadata": {},
   "outputs": [
    {
     "name": "stdout",
     "output_type": "stream",
     "text": [
      "prha saeetam\n"
     ]
    }
   ],
   "source": [
    "#Get a single string from two given strings, separated by a space and swap the first two characters of each string\n",
    "\n",
    "def single_string(a,b):\n",
    "    new_a = b[:2] + a[2:]\n",
    "    new_b = a[:2] + b[2:]\n",
    "    return new_b  + \" \" + new_a \n",
    "\n",
    "p=single_string(\"preetam\",\"saha\")\n",
    "print(p)"
   ]
  },
  {
   "cell_type": "code",
   "execution_count": 21,
   "id": "3280f21f",
   "metadata": {},
   "outputs": [
    {
     "data": {
      "text/plain": [
       "'petm'"
      ]
     },
     "execution_count": 21,
     "metadata": {},
     "output_type": "execute_result"
    }
   ],
   "source": [
    "#Remove the characters which have odd index values of a given string\n",
    "\n",
    "def remove_char(a):\n",
    "    str = \"\"\n",
    "    for i in range(len(a)):\n",
    "        if i%2 == 0 :\n",
    "            str = str + a[i]\n",
    "    return str\n",
    "\n",
    "remove_char(\"preetam\")"
   ]
  },
  {
   "cell_type": "code",
   "execution_count": 22,
   "id": "a09dc1d6",
   "metadata": {},
   "outputs": [
    {
     "name": "stdout",
     "output_type": "stream",
     "text": [
      "* \n",
      "* * \n",
      "* * * \n",
      "* * * * \n",
      "* * * * * \n",
      "* * * * \n",
      "* * * \n",
      "* * \n",
      "* \n"
     ]
    }
   ],
   "source": [
    "#Construct a specified pattern, using a nested for loop\n",
    "# * \n",
    "# * * \n",
    "# * * * \n",
    "# * * * * \n",
    "# * * * * * \n",
    "# * * * * \n",
    "# * * * \n",
    "# * * \n",
    "# *\n",
    "\n",
    "for i in range(1,6):\n",
    "    for j in range(i):\n",
    "        print(\"* \",end=\"\")\n",
    "    print()\n",
    "for i in range(4,0,-1):\n",
    "    for j in range(i):\n",
    "        print(\"* \",end=\"\")\n",
    "    print()\n",
    "        "
   ]
  },
  {
   "cell_type": "code",
   "execution_count": 23,
   "id": "2f83c390",
   "metadata": {},
   "outputs": [
    {
     "name": "stdout",
     "output_type": "stream",
     "text": [
      "pre\n",
      "pre\n"
     ]
    }
   ],
   "source": [
    "for i in range(2):\n",
    "    print(\"pre\")"
   ]
  },
  {
   "cell_type": "code",
   "execution_count": 24,
   "id": "ebf551f1",
   "metadata": {},
   "outputs": [
    {
     "name": "stdout",
     "output_type": "stream",
     "text": [
      "Enter input:5\n",
      "digit = 1,string = 0\n"
     ]
    }
   ],
   "source": [
    "# Calculate the number of digits and letters in a string\n",
    "\n",
    "s = input(\"Enter input:\")\n",
    "d = 0\n",
    "l = 0\n",
    "\n",
    "for i in s:\n",
    "    if i.isdigit():\n",
    "        d= d+1\n",
    "    else:\n",
    "        l = l+1\n",
    "print(f\"digit = {d},string = {l}\")"
   ]
  },
  {
   "cell_type": "code",
   "execution_count": 25,
   "id": "fc598110",
   "metadata": {},
   "outputs": [
    {
     "name": "stdout",
     "output_type": "stream",
     "text": [
      "Enter a number:8\n",
      "not divisible\n"
     ]
    }
   ],
   "source": [
    "#Python program to check whether the given integer is a multiple of 5\n",
    "\n",
    "s = int(input(\"Enter a number:\"))\n",
    "if s%5 == 0:\n",
    "    print(\"divisible\")\n",
    "else:\n",
    "    print(\"not divisible\")\n"
   ]
  },
  {
   "cell_type": "code",
   "execution_count": 26,
   "id": "62eb868c",
   "metadata": {},
   "outputs": [
    {
     "name": "stdout",
     "output_type": "stream",
     "text": [
      "number: 9\n",
      "number: 9\n",
      "number: 8\n",
      "number: 8\n",
      "number: 6\n",
      "number: 8\n",
      "number: 4\n",
      "number: 7\n",
      "number: 2\n",
      "number: 7\n",
      "6.8\n"
     ]
    }
   ],
   "source": [
    "# Python program to find the average of 10 numbers using while loop\n",
    "\n",
    "count=0\n",
    "sum = 0\n",
    "while (count<10):\n",
    "    number = int(input(\"number: \"))\n",
    "    sum = sum + number\n",
    "    count += 1\n",
    "print(sum/10)"
   ]
  },
  {
   "cell_type": "code",
   "execution_count": 27,
   "id": "68efe534",
   "metadata": {},
   "outputs": [
    {
     "name": "stdout",
     "output_type": "stream",
     "text": [
      "enter the number:8\n",
      "enter the num:8\n",
      "enter the num:9\n",
      "enter the num:9\n",
      "enter the num:9\n",
      "enter the num:8\n",
      "enter the num:8\n",
      "enter the num:8\n",
      "enter the num:7\n",
      "8.222865554918807\n"
     ]
    }
   ],
   "source": [
    "# Python program to find the geometric mean of n numbers\n",
    "\n",
    "c = 0\n",
    "p = 1.0\n",
    "\n",
    "count = int(input(\"enter the number:\"))\n",
    "while (c<count):\n",
    "    number = float(input(\"enter the num:\"))\n",
    "    p = p * number\n",
    "    c = c+1\n",
    "print(p**(1.0/count))"
   ]
  },
  {
   "cell_type": "code",
   "execution_count": 28,
   "id": "35ec1c80",
   "metadata": {},
   "outputs": [
    {
     "name": "stdout",
     "output_type": "stream",
     "text": [
      "Enter the number of values: 7\n",
      "Enter a real number: 7\n",
      "Enter a real number: 6\n",
      "Enter a real number: 7\n",
      "Enter a real number: 8\n",
      "Enter a real number: 9\n",
      "Enter a real number: 4\n",
      "Enter a real number: 5\n",
      "The geometric mean is:  6.365253273702034\n"
     ]
    }
   ],
   "source": [
    "c = 0\n",
    "p = 1.0\n",
    "count = int(input(\"Enter the number of values: \"))\n",
    "while(c<count):\n",
    "    x = float(input(\"Enter a real number: \"))\n",
    "    c = c+1\n",
    "    p = p * x\n",
    "gm = pow(p,1.0/count)\n",
    "print(\"The geometric mean is: \",gm)"
   ]
  },
  {
   "cell_type": "code",
   "execution_count": 29,
   "id": "108691bb",
   "metadata": {},
   "outputs": [
    {
     "name": "stdout",
     "output_type": "stream",
     "text": [
      "num7\n",
      "7\n"
     ]
    }
   ],
   "source": [
    "x=int(input(\"num\"))\n",
    "print(x)"
   ]
  },
  {
   "cell_type": "code",
   "execution_count": 30,
   "id": "134106b9",
   "metadata": {},
   "outputs": [
    {
     "name": "stdout",
     "output_type": "stream",
     "text": [
      "3628800\n"
     ]
    }
   ],
   "source": [
    "import math\n",
    "x = math.factorial(10)\n",
    "print(x)"
   ]
  },
  {
   "cell_type": "code",
   "execution_count": 31,
   "id": "7302827c",
   "metadata": {},
   "outputs": [
    {
     "name": "stdout",
     "output_type": "stream",
     "text": [
      "True\n"
     ]
    }
   ],
   "source": [
    "x = isinstance(x,int)\n",
    "print(x)"
   ]
  },
  {
   "cell_type": "code",
   "execution_count": 32,
   "id": "cc4e4e31",
   "metadata": {},
   "outputs": [
    {
     "name": "stdout",
     "output_type": "stream",
     "text": [
      "True\n"
     ]
    }
   ],
   "source": [
    "y = isinstance(6.2,float)\n",
    "print(y)"
   ]
  },
  {
   "cell_type": "code",
   "execution_count": 33,
   "id": "b5659765",
   "metadata": {},
   "outputs": [
    {
     "name": "stdout",
     "output_type": "stream",
     "text": [
      "n must be an integer\n",
      "n must be an integer\n",
      "None\n",
      "None\n",
      "5040\n"
     ]
    }
   ],
   "source": [
    "def return_fact(n):\n",
    "    if not isinstance(n,int):\n",
    "        print(\"n must be an integer\")\n",
    "        return None\n",
    "    elif n<0:\n",
    "        print(\"n must be positive number\")\n",
    "        return None\n",
    "    elif n==0:\n",
    "        return 1\n",
    "    else:\n",
    "        return n*return_fact(n-1)\n",
    "    \n",
    "a=return_fact(7.9)\n",
    "b=return_fact(-7.9)\n",
    "c=return_fact(7)\n",
    "print(a)\n",
    "print(b)\n",
    "print(c)"
   ]
  },
  {
   "cell_type": "code",
   "execution_count": 34,
   "id": "16bcc8a5",
   "metadata": {},
   "outputs": [
    {
     "name": "stdout",
     "output_type": "stream",
     "text": [
      "Enter a number:7\n",
      "number is armstrong number\n"
     ]
    }
   ],
   "source": [
    "#Python Program to Check Armstrong Number\n",
    "\n",
    "n = int(input(\"Enter a number:\"))\n",
    "\n",
    "order = len(str(n))\n",
    "sum = 0\n",
    "copy_n = n\n",
    "\n",
    "while(n!=0):\n",
    "    digit = n%10\n",
    "    sum = sum + digit ** order\n",
    "    n = n//10\n",
    "if copy_n == sum :\n",
    "    print(\"number is armstrong number\")\n",
    "else:\n",
    "    print(\"not armstrong number \")\n"
   ]
  },
  {
   "cell_type": "code",
   "execution_count": 35,
   "id": "a5ab001d",
   "metadata": {},
   "outputs": [
    {
     "name": "stdout",
     "output_type": "stream",
     "text": [
      "enter a number:8\n",
      "enter a single digit:5\n",
      "5 in 8 is  0 times\n"
     ]
    }
   ],
   "source": [
    "#Count the Number of Occurrences of digit in a number using Python\n",
    "\n",
    "n = int(input(\"enter a number:\"))\n",
    "d = int(input(\"enter a single digit:\"))\n",
    "num = n\n",
    "count = 0\n",
    "\n",
    "while(n!=0):\n",
    "    digit = n%10\n",
    "    if d == digit:\n",
    "        count+=1\n",
    "    n = n//10\n",
    "print(f\"{d} in {num} is \" ,count,\"times\")\n",
    "        \n",
    "    "
   ]
  },
  {
   "cell_type": "code",
   "execution_count": 36,
   "id": "01f1e9e9",
   "metadata": {},
   "outputs": [
    {
     "name": "stdout",
     "output_type": "stream",
     "text": [
      "enter a number:8\n"
     ]
    },
    {
     "data": {
      "text/plain": [
       "21"
      ]
     },
     "execution_count": 36,
     "metadata": {},
     "output_type": "execute_result"
    }
   ],
   "source": [
    "# Generation of the Fibonacci Series using Recursion (( input is given by its index or position))\n",
    "def fibo(n):\n",
    "    if n==0:\n",
    "        return 0\n",
    "    if n==1:\n",
    "        return 1\n",
    "    else:\n",
    "        return fibo(n-1) + fibo(n-2)\n",
    "a = int(input(\"enter a number:\"))\n",
    "fibo(a)"
   ]
  },
  {
   "cell_type": "code",
   "execution_count": 37,
   "id": "2e0a0859",
   "metadata": {},
   "outputs": [
    {
     "name": "stdout",
     "output_type": "stream",
     "text": [
      "2022-03-11\n"
     ]
    }
   ],
   "source": [
    "from datetime import date\n",
    "d = date.today()\n",
    "print(d)"
   ]
  },
  {
   "cell_type": "code",
   "execution_count": 38,
   "id": "4a31bf74",
   "metadata": {},
   "outputs": [
    {
     "name": "stdout",
     "output_type": "stream",
     "text": [
      "2022-03-11 00:55:13.350260\n"
     ]
    }
   ],
   "source": [
    "from datetime import datetime\n",
    "dt = datetime.now()\n",
    "print(dt)"
   ]
  },
  {
   "cell_type": "code",
   "execution_count": 39,
   "id": "0e478d15",
   "metadata": {},
   "outputs": [
    {
     "name": "stdout",
     "output_type": "stream",
     "text": [
      "11-03-22\n"
     ]
    }
   ],
   "source": [
    "d1 = date.today()\n",
    "d1_form=d1.strftime(\"%d-%m-%y\")\n",
    "print(d1_form)"
   ]
  },
  {
   "cell_type": "code",
   "execution_count": 40,
   "id": "5ca1fdfd",
   "metadata": {},
   "outputs": [
    {
     "name": "stdout",
     "output_type": "stream",
     "text": [
      "Friday\n"
     ]
    }
   ],
   "source": [
    "d2_form=d1.strftime(\"%A\")\n",
    "print(d2_form)"
   ]
  },
  {
   "cell_type": "code",
   "execution_count": 41,
   "id": "be5fe42f",
   "metadata": {},
   "outputs": [
    {
     "name": "stdout",
     "output_type": "stream",
     "text": [
      "March\n"
     ]
    }
   ],
   "source": [
    "d3_form=d1.strftime(\"%B\")\n",
    "print(d3_form)"
   ]
  },
  {
   "cell_type": "code",
   "execution_count": 42,
   "id": "c87a91a3",
   "metadata": {},
   "outputs": [
    {
     "name": "stdout",
     "output_type": "stream",
     "text": [
      "03/11/22\n"
     ]
    }
   ],
   "source": [
    "d3_form=d1.strftime(\"%D\")\n",
    "print(d3_form)"
   ]
  },
  {
   "cell_type": "code",
   "execution_count": 43,
   "id": "eddd1b44",
   "metadata": {},
   "outputs": [
    {
     "name": "stdout",
     "output_type": "stream",
     "text": [
      "2022-03-11\n"
     ]
    }
   ],
   "source": [
    "print(d1)"
   ]
  },
  {
   "cell_type": "code",
   "execution_count": 44,
   "id": "e2738f54",
   "metadata": {},
   "outputs": [
    {
     "name": "stdout",
     "output_type": "stream",
     "text": [
      "7 days, 0:00:00\n"
     ]
    }
   ],
   "source": [
    "then = date(2022,3,4)\n",
    "diff = d-then\n",
    "print(diff)"
   ]
  },
  {
   "cell_type": "code",
   "execution_count": 45,
   "id": "c93b8219",
   "metadata": {},
   "outputs": [
    {
     "data": {
      "text/plain": [
       "7"
      ]
     },
     "execution_count": 45,
     "metadata": {},
     "output_type": "execute_result"
    }
   ],
   "source": [
    "diff.days"
   ]
  },
  {
   "cell_type": "code",
   "execution_count": 46,
   "id": "0ad0e882",
   "metadata": {},
   "outputs": [
    {
     "name": "stdout",
     "output_type": "stream",
     "text": [
      "enter a number:5\n",
      "the reverse number of 5 is : 5\n"
     ]
    }
   ],
   "source": [
    "#Reverse the digits of a number using Python\n",
    "\n",
    "n= int(input(\"enter a number:\"))\n",
    "num = n\n",
    "\n",
    "reverse = \"\"\n",
    "\n",
    "while(n!=0):\n",
    "    digit = n%10\n",
    "    reverse = reverse + str(digit) \n",
    "    n  = n//10\n",
    "\n",
    "print(f\"the reverse number of {num} is : {reverse}\")"
   ]
  },
  {
   "cell_type": "code",
   "execution_count": 47,
   "id": "f1ae0ff4",
   "metadata": {},
   "outputs": [
    {
     "name": "stdout",
     "output_type": "stream",
     "text": [
      "enter a number:8\n",
      "the reverse number of 8 is : 8\n"
     ]
    }
   ],
   "source": [
    "#Reverse the digits of a number using Python\n",
    "\n",
    "n= int(input(\"enter a number:\"))\n",
    "num = n\n",
    "\n",
    "reverse = 0\n",
    "\n",
    "while(n!=0):\n",
    "    digit = n%10\n",
    "    reverse = reverse*10 + (digit) \n",
    "    n  = n//10\n",
    "\n",
    "print(f\"the reverse number of {num} is : {reverse}\")"
   ]
  },
  {
   "cell_type": "code",
   "execution_count": 48,
   "id": "55d82233",
   "metadata": {},
   "outputs": [
    {
     "name": "stdout",
     "output_type": "stream",
     "text": [
      "enter a number:9\n",
      "the product of the digits of 9 is : 9\n"
     ]
    }
   ],
   "source": [
    "#Product of Digits of the number using Python\n",
    "n= int(input(\"enter a number:\"))\n",
    "num = n\n",
    "product = 1\n",
    "\n",
    "while(n!=0):\n",
    "    digit = n%10\n",
    "    product = product * digit\n",
    "    n = n//10\n",
    "print(f\"the product of the digits of {num} is : {product}\")\n",
    "    "
   ]
  },
  {
   "cell_type": "code",
   "execution_count": 49,
   "id": "f18655f5",
   "metadata": {},
   "outputs": [
    {
     "name": "stdout",
     "output_type": "stream",
     "text": [
      "enter a number:6\n",
      "not leap\n"
     ]
    }
   ],
   "source": [
    "#Python Program to Check Leap Year\n",
    "\n",
    "n= int(input(\"enter a number:\"))\n",
    "if (n%400 == 0) and (n%100 == 0):\n",
    "    print(\"leap\")\n",
    "elif (n%4 == 0) and (n%100 !=0):\n",
    "    print(\"leap\")\n",
    "else:\n",
    "    print(\"not leap\")"
   ]
  },
  {
   "cell_type": "code",
   "execution_count": 50,
   "id": "09edcb95",
   "metadata": {},
   "outputs": [
    {
     "name": "stdout",
     "output_type": "stream",
     "text": [
      "Enter lower range: 4\n",
      "Enter upper range: 8\n",
      "5\n",
      "7\n"
     ]
    }
   ],
   "source": [
    "#Python Program to Print all Prime Numbers in an Interval\n",
    "\n",
    "lower = int(input(\"Enter lower range: \"))\n",
    "upper = int(input(\"Enter upper range: \"))\n",
    "\n",
    "for num in range(lower,upper+1):\n",
    "    if  num>1:\n",
    "        for i in range(2,num):\n",
    "            if num%i == 0:\n",
    "                break\n",
    "        else:\n",
    "            print(num)"
   ]
  },
  {
   "cell_type": "code",
   "execution_count": 51,
   "id": "f7332649",
   "metadata": {},
   "outputs": [
    {
     "name": "stdout",
     "output_type": "stream",
     "text": [
      "Enter lower range: 6\n",
      "Enter upper range: 9\n",
      "7\n",
      "7\n",
      "7\n",
      "7\n",
      "7\n",
      "9\n"
     ]
    }
   ],
   "source": [
    "\n",
    "lower = int(input(\"Enter lower range: \"))\n",
    "upper = int(input(\"Enter upper range: \"))\n",
    "\n",
    "for num in range(lower,upper+1):\n",
    "    if  num>1:\n",
    "        for i in range(2,num):\n",
    "            if num%i == 0:\n",
    "                break\n",
    "            else:\n",
    "                print(num)"
   ]
  },
  {
   "cell_type": "code",
   "execution_count": 52,
   "id": "a1893ae6",
   "metadata": {},
   "outputs": [
    {
     "name": "stdout",
     "output_type": "stream",
     "text": [
      "Enter lower range: 3\n",
      "Enter upper range: 6\n",
      "3\n",
      "4\n",
      "5\n",
      "6\n"
     ]
    }
   ],
   "source": [
    "lower = int(input(\"Enter lower range: \"))\n",
    "upper = int(input(\"Enter upper range: \"))\n",
    "\n",
    "for num in range(lower,upper+1):\n",
    "    if  num>1:\n",
    "        for i in range(2,num):\n",
    "            if num%i == 0:\n",
    "                break\n",
    "        print(num)"
   ]
  },
  {
   "cell_type": "code",
   "execution_count": 53,
   "id": "8606c6d5",
   "metadata": {},
   "outputs": [
    {
     "name": "stdout",
     "output_type": "stream",
     "text": [
      "Enter a value: 7\n",
      "7\n"
     ]
    }
   ],
   "source": [
    "num= int(input(\"Enter a value: \"))\n",
    "for i in range(2,num):\n",
    "    if num%i ==0:\n",
    "        break\n",
    "print(num)"
   ]
  },
  {
   "cell_type": "code",
   "execution_count": 54,
   "id": "de7b7cce",
   "metadata": {},
   "outputs": [
    {
     "name": "stdout",
     "output_type": "stream",
     "text": [
      "Enter a value: 5\n",
      "5\n"
     ]
    }
   ],
   "source": [
    "num= int(input(\"Enter a value: \"))\n",
    "for i in range(2,num):\n",
    "    if num%i ==0:\n",
    "        break\n",
    "else:\n",
    "    print(num)"
   ]
  },
  {
   "cell_type": "code",
   "execution_count": 55,
   "id": "dc5ef2f8",
   "metadata": {},
   "outputs": [
    {
     "name": "stdout",
     "output_type": "stream",
     "text": [
      "Enter a value: 7\n",
      "7\n",
      "7\n",
      "7\n",
      "7\n",
      "7\n"
     ]
    }
   ],
   "source": [
    "num= int(input(\"Enter a value: \"))\n",
    "for i in range(2,num):\n",
    "    if num%i ==0:\n",
    "        break\n",
    "    else:\n",
    "        print(num)"
   ]
  },
  {
   "cell_type": "code",
   "execution_count": 56,
   "id": "bebb04d4",
   "metadata": {},
   "outputs": [
    {
     "name": "stdout",
     "output_type": "stream",
     "text": [
      "Enter lower range: 5\n",
      "Enter upper range: 8\n",
      "5\n",
      "7\n"
     ]
    }
   ],
   "source": [
    "#Python Program to Print all Prime Numbers in an Interval\n",
    "\n",
    "lower = int(input(\"Enter lower range: \"))\n",
    "upper = int(input(\"Enter upper range: \"))\n",
    "\n",
    "\n",
    "for i in range(lower,upper+1):\n",
    "    flag = 0\n",
    "    for j in range(2,i):\n",
    "        if i%j == 0:\n",
    "            flag = 1\n",
    "            \n",
    "    if (flag == 0):\n",
    "        print(i)"
   ]
  },
  {
   "cell_type": "code",
   "execution_count": 57,
   "id": "a1727ffb",
   "metadata": {},
   "outputs": [
    {
     "name": "stdout",
     "output_type": "stream",
     "text": [
      "[12, 4, 3]\n",
      "[7, 5, 8]\n"
     ]
    }
   ],
   "source": [
    "#Python Program to Transpose a Matrix\n",
    "\n",
    "X = [[12,7],\n",
    "    [4 ,5],\n",
    "    [3 ,8]]\n",
    "\n",
    "result = [[0,0,0],\n",
    "         [0,0,0]]\n",
    "\n",
    "for i in range(len(X)):\n",
    "    for j in range(len(X[0])):\n",
    "        result[j][i] = X[i][j]\n",
    "        \n",
    "#print(result)\n",
    "for r in result:\n",
    "    print(r)"
   ]
  },
  {
   "cell_type": "code",
   "execution_count": 58,
   "id": "b1b010f8",
   "metadata": {},
   "outputs": [
    {
     "name": "stdout",
     "output_type": "stream",
     "text": [
      "4\n"
     ]
    }
   ],
   "source": [
    "## Python program to find H.C.F of two numbers\n",
    "\n",
    "def cal_hcf(x,y): \n",
    "    if x>y:\n",
    "        smaller = y\n",
    "    else:\n",
    "        smaller = x\n",
    "\n",
    "    for i in range(1,smaller+1):\n",
    "        if (x%i==0) and (y%i==0):\n",
    "            hcf = i\n",
    "\n",
    "    return hcf\n",
    "\n",
    "a=cal_hcf(4,8)\n",
    "print(a)"
   ]
  },
  {
   "cell_type": "code",
   "execution_count": 59,
   "id": "dc91bc55",
   "metadata": {},
   "outputs": [
    {
     "name": "stdout",
     "output_type": "stream",
     "text": [
      "Enter a num:7\n",
      "the factors of 7 is:\n",
      "1 7 "
     ]
    }
   ],
   "source": [
    "#Python Program to find the factors of a number\n",
    "num = int(input(\"Enter a num:\"))\n",
    "\n",
    "print(f\"the factors of {num} is:\")\n",
    "for i in range(1,num+1):\n",
    "    if num%i == 0 :\n",
    "        print(i,end=\" \")\n"
   ]
  },
  {
   "cell_type": "code",
   "execution_count": 60,
   "id": "50927b7a",
   "metadata": {},
   "outputs": [],
   "source": [
    "## Python program to find LCM of two numbers\n",
    "\n",
    "def cal_lcm(x,y):\n",
    "    if x>y:\n",
    "        greater = x\n",
    "    else:\n",
    "        greater = y\n",
    "    while True:\n",
    "        if (greater%x == 0) and (greater%y==0):\n",
    "            lcm = greater\n",
    "            break\n",
    "        greater+=1\n",
    "    return lcm"
   ]
  },
  {
   "cell_type": "code",
   "execution_count": 61,
   "id": "c0230e60",
   "metadata": {},
   "outputs": [
    {
     "data": {
      "text/plain": [
       "105"
      ]
     },
     "execution_count": 61,
     "metadata": {},
     "output_type": "execute_result"
    }
   ],
   "source": [
    "cal_lcm(15,35)"
   ]
  },
  {
   "cell_type": "code",
   "execution_count": 62,
   "id": "7d828fcd",
   "metadata": {},
   "outputs": [],
   "source": [
    "# find the odd number of ouucurences of a number in a given list \n",
    "\n",
    "def find_odd(lst):\n",
    "    for i in lst:\n",
    "        if lst.count(i)%2 != 0:\n",
    "            return i , lst.count(i)"
   ]
  },
  {
   "cell_type": "code",
   "execution_count": 63,
   "id": "68874837",
   "metadata": {},
   "outputs": [
    {
     "data": {
      "text/plain": [
       "(2, 3)"
      ]
     },
     "execution_count": 63,
     "metadata": {},
     "output_type": "execute_result"
    }
   ],
   "source": [
    "find_odd([2,8,9,2,2,6])"
   ]
  },
  {
   "cell_type": "code",
   "execution_count": 64,
   "id": "fe50af78",
   "metadata": {},
   "outputs": [],
   "source": [
    "#Given a list of numbers, create a function which returns the list but with each element's index in the list added to itself.\n",
    "def add_index(lst):\n",
    "    return [i+j for i,j in enumerate(lst)]"
   ]
  },
  {
   "cell_type": "code",
   "execution_count": 65,
   "id": "7683a361",
   "metadata": {},
   "outputs": [
    {
     "data": {
      "text/plain": [
       "[5, 8, 10]"
      ]
     },
     "execution_count": 65,
     "metadata": {},
     "output_type": "execute_result"
    }
   ],
   "source": [
    "add_index([5,7,8])"
   ]
  },
  {
   "cell_type": "code",
   "execution_count": 66,
   "id": "4278ce65",
   "metadata": {},
   "outputs": [],
   "source": [
    "#Write a function that takes a list of elements and returns only the integers.\n",
    "\n",
    "def ret_int(lst):\n",
    "    lst1= []\n",
    "    for i in lst:\n",
    "        if type(i) == int:\n",
    "            lst1.append(i)\n",
    "    return lst1"
   ]
  },
  {
   "cell_type": "code",
   "execution_count": 67,
   "id": "c6837f47",
   "metadata": {},
   "outputs": [
    {
     "data": {
      "text/plain": [
       "[9, 2, 16]"
      ]
     },
     "execution_count": 67,
     "metadata": {},
     "output_type": "execute_result"
    }
   ],
   "source": [
    "ret_int([9, 2, \"space\", \"car\", \"lion\", 16])"
   ]
  },
  {
   "cell_type": "code",
   "execution_count": 68,
   "id": "6d6b7e7a",
   "metadata": {},
   "outputs": [],
   "source": [
    "def return_only_integer(lst):\n",
    "    return [i for i in lst if type(i)==int]"
   ]
  },
  {
   "cell_type": "code",
   "execution_count": 69,
   "id": "02504402",
   "metadata": {},
   "outputs": [
    {
     "data": {
      "text/plain": [
       "[9, 2, 16]"
      ]
     },
     "execution_count": 69,
     "metadata": {},
     "output_type": "execute_result"
    }
   ],
   "source": [
    "return_only_integer([9, 2, \"space\", \"car\", \"lion\", 16])"
   ]
  },
  {
   "cell_type": "code",
   "execution_count": 70,
   "id": "3403cd08",
   "metadata": {},
   "outputs": [],
   "source": [
    "#Write a function that takes a list and a number as arguments. Add the number to the end of the list, \n",
    "#then remove the first element of the list. \n",
    "#The function should then return the updated list.\n",
    "\n",
    "def ret_list(lst,num):\n",
    "    lst.append(num)\n",
    "    lst.pop(0)\n",
    "    return lst"
   ]
  },
  {
   "cell_type": "code",
   "execution_count": 71,
   "id": "b96a5f0d",
   "metadata": {},
   "outputs": [
    {
     "data": {
      "text/plain": [
       "[6, 7, 8, 9, 1]"
      ]
     },
     "execution_count": 71,
     "metadata": {},
     "output_type": "execute_result"
    }
   ],
   "source": [
    "ret_list([5, 6, 7, 8, 9], 1)"
   ]
  },
  {
   "cell_type": "code",
   "execution_count": 72,
   "id": "851617f2",
   "metadata": {},
   "outputs": [
    {
     "name": "stdout",
     "output_type": "stream",
     "text": [
      "enter a num: 5\n",
      "Prime\n"
     ]
    }
   ],
   "source": [
    "#Python program to check whether the given integer is a prime number or not\n",
    "\n",
    "num = int(input(\"enter a num: \"))\n",
    "flag = 0\n",
    "for i in range(2,num):\n",
    "    if num%i == 0:\n",
    "        flag = 1\n",
    "        break\n",
    "if (flag == 1):\n",
    "    print(\"Not Prime\")\n",
    "else:\n",
    "    print(\"Prime\")"
   ]
  },
  {
   "cell_type": "code",
   "execution_count": 73,
   "id": "0ec725d2",
   "metadata": {},
   "outputs": [
    {
     "name": "stdout",
     "output_type": "stream",
     "text": [
      "enter a num: 9\n",
      "2\n",
      "3\n",
      "5\n",
      "7\n"
     ]
    }
   ],
   "source": [
    "#Python program to generate the prime numbers from 1 to N\n",
    "num = int(input(\"enter a num: \"))\n",
    "\n",
    "for i in range(2,num):\n",
    "    for j in range(2,i):\n",
    "        if i%j == 0:\n",
    "            break\n",
    "    else:\n",
    "        print(i)"
   ]
  },
  {
   "cell_type": "code",
   "execution_count": 74,
   "id": "205637c2",
   "metadata": {},
   "outputs": [
    {
     "name": "stdout",
     "output_type": "stream",
     "text": [
      "[2, 3, 4, 5, 10, 6, 7, 8]\n"
     ]
    }
   ],
   "source": [
    "#Python program to insert a number to any position in a list\n",
    "lst = [2,3,4,5,6,7,8]\n",
    "lst.insert(4,10)\n",
    "print(lst)"
   ]
  },
  {
   "cell_type": "code",
   "execution_count": 75,
   "id": "edc8048b",
   "metadata": {},
   "outputs": [
    {
     "name": "stdout",
     "output_type": "stream",
     "text": [
      "[118, 69, 60]\n",
      "[117, 68, 50]\n",
      "[113, 62, 57]\n"
     ]
    }
   ],
   "source": [
    "#Python program to implement matrix multiplication\n",
    "\n",
    "X = [[8,5,1],\n",
    "[9 ,3,2],\n",
    "[4 ,6,3]]\n",
    "Y = [[8,5,3],\n",
    "[9,5,7],\n",
    "[9,4,1]]\n",
    "\n",
    "result = [[0,0,0],\n",
    "         [0,0,0],\n",
    "         [0,0,0]]\n",
    "\n",
    "for i in range(len(X)):\n",
    "    for j in range(len(Y[0])):\n",
    "        for k in range(len(Y)):\n",
    "            result[i][j] += X[i][k] * Y [k][j]\n",
    "for r in result:\n",
    "    print(r)\n",
    "        \n",
    "        "
   ]
  },
  {
   "cell_type": "code",
   "execution_count": 76,
   "id": "b4c2beed",
   "metadata": {},
   "outputs": [
    {
     "data": {
      "text/plain": [
       "8"
      ]
     },
     "execution_count": 76,
     "metadata": {},
     "output_type": "execute_result"
    }
   ],
   "source": [
    "X = [[8,5,1],\n",
    "[9 ,3,2]]\n",
    "\n",
    "X[0][0]"
   ]
  },
  {
   "cell_type": "code",
   "execution_count": 77,
   "id": "0438f197",
   "metadata": {},
   "outputs": [
    {
     "data": {
      "text/plain": [
       "65536"
      ]
     },
     "execution_count": 77,
     "metadata": {},
     "output_type": "execute_result"
    }
   ],
   "source": [
    "2**16"
   ]
  },
  {
   "cell_type": "code",
   "execution_count": 78,
   "id": "dd6cec94",
   "metadata": {},
   "outputs": [
    {
     "data": {
      "text/plain": [
       "4294967296"
      ]
     },
     "execution_count": 78,
     "metadata": {},
     "output_type": "execute_result"
    }
   ],
   "source": [
    "2**32"
   ]
  },
  {
   "cell_type": "code",
   "execution_count": 79,
   "id": "469e93f2",
   "metadata": {},
   "outputs": [],
   "source": [
    "#Create a function that takes two numbers as arguments (num, length) and \n",
    "#returns a list of multiples of num until the list length reaches length.\n",
    "\n",
    "def multi(num,length):\n",
    "    lst = []\n",
    "    for i in range(1,length+1):\n",
    "        lst.append(num*i)\n",
    "    return lst"
   ]
  },
  {
   "cell_type": "code",
   "execution_count": 80,
   "id": "01cf50e1",
   "metadata": {},
   "outputs": [
    {
     "data": {
      "text/plain": [
       "[5, 10, 15, 20, 25, 30, 35]"
      ]
     },
     "execution_count": 80,
     "metadata": {},
     "output_type": "execute_result"
    }
   ],
   "source": [
    "multi(5,7)"
   ]
  },
  {
   "cell_type": "code",
   "execution_count": 81,
   "id": "af56d115",
   "metadata": {},
   "outputs": [],
   "source": [
    "# Create a function that takes a dictionary of objects like { \"name\": \"John\", \"notes\": [3, 5, 4] } \n",
    "# and returns a dictionary of objects like { \"name\": \"John\", \"top_note\": 5 }.\n",
    "\n",
    "def top_note(student):\n",
    "    return {\"name\" : student[\"name\"] , \"top_note\" : max(student[\"notes\"])}"
   ]
  },
  {
   "cell_type": "code",
   "execution_count": 82,
   "id": "3dcdc46d",
   "metadata": {},
   "outputs": [
    {
     "data": {
      "text/plain": [
       "{'name': 'Max', 'top_note': 6}"
      ]
     },
     "execution_count": 82,
     "metadata": {},
     "output_type": "execute_result"
    }
   ],
   "source": [
    "top_note({ \"name\": \"Max\", \"notes\": [1, 4, 6] })"
   ]
  },
  {
   "cell_type": "code",
   "execution_count": 83,
   "id": "a448a35c",
   "metadata": {},
   "outputs": [
    {
     "data": {
      "text/plain": [
       "4"
      ]
     },
     "execution_count": 83,
     "metadata": {},
     "output_type": "execute_result"
    }
   ],
   "source": [
    "max([2,3,4])"
   ]
  },
  {
   "cell_type": "code",
   "execution_count": 84,
   "id": "021013b9",
   "metadata": {},
   "outputs": [],
   "source": [
    "#Python – Create acronyms from words\n",
    "\n",
    "\n",
    "def create_acro(str):\n",
    "    output=str[0]\n",
    "    for i in range(1,len(str)):\n",
    "        if str[i-1] == \" \":\n",
    "            output = output + str[i]\n",
    "            output = output.upper()\n",
    "    return output    "
   ]
  },
  {
   "cell_type": "code",
   "execution_count": 85,
   "id": "20024b55",
   "metadata": {},
   "outputs": [
    {
     "data": {
      "text/plain": [
       "'PS'"
      ]
     },
     "execution_count": 85,
     "metadata": {},
     "output_type": "execute_result"
    }
   ],
   "source": [
    "create_acro(\"Preetam saha\")"
   ]
  },
  {
   "cell_type": "code",
   "execution_count": 86,
   "id": "8c3bb5c3",
   "metadata": {},
   "outputs": [],
   "source": [
    "#Question:\n",
    "# Write a program that accepts a sentence and calculate the number of letters and digits.\n",
    "# Suppose the following input is supplied to the program:\n",
    "# hello world! 123\n",
    "# Then, the output should be:\n",
    "# LETTERS 10\n",
    "# DIGITS 3\n",
    "\n",
    "\n",
    "def return_output(sentence):\n",
    "    dict = {\"letter\" : 0 , \"digits\" : 0}\n",
    "    for i in sentence:\n",
    "        if i.isalpha():\n",
    "            dict[\"letter\"] += 1\n",
    "        elif i.isdigit():\n",
    "            dict[\"digits\"] += 1\n",
    "        else:\n",
    "            pass\n",
    "    return dict\n",
    "            \n",
    "            "
   ]
  },
  {
   "cell_type": "code",
   "execution_count": 87,
   "id": "835a689a",
   "metadata": {},
   "outputs": [
    {
     "data": {
      "text/plain": [
       "{'letter': 10, 'digits': 3}"
      ]
     },
     "execution_count": 87,
     "metadata": {},
     "output_type": "execute_result"
    }
   ],
   "source": [
    "return_output(\"hello world! 123\")"
   ]
  },
  {
   "cell_type": "code",
   "execution_count": 97,
   "id": "427db129",
   "metadata": {},
   "outputs": [],
   "source": [
    "# Question:\n",
    "# Write a program that computes the value of a+aa+aaa+aaaa with a given digit as the value of a.\n",
    "# Suppose the following input is supplied to the program:\n",
    "\n",
    "def return_sum(a):\n",
    "    sum = 0\n",
    "    for i in range(1,5):\n",
    "        x=int((str(a)*i))\n",
    "        sum = sum + x\n",
    "    return sum"
   ]
  },
  {
   "cell_type": "code",
   "execution_count": 92,
   "id": "6ba3dd66",
   "metadata": {},
   "outputs": [
    {
     "name": "stdout",
     "output_type": "stream",
     "text": [
      "Enter a number: 9\n"
     ]
    },
    {
     "ename": "TypeError",
     "evalue": "'int' object is not callable",
     "output_type": "error",
     "traceback": [
      "\u001b[1;31m---------------------------------------------------------------------------\u001b[0m",
      "\u001b[1;31mTypeError\u001b[0m                                 Traceback (most recent call last)",
      "\u001b[1;32m<ipython-input-92-61c44115599c>\u001b[0m in \u001b[0;36m<module>\u001b[1;34m\u001b[0m\n\u001b[0;32m      1\u001b[0m \u001b[0ma\u001b[0m \u001b[1;33m=\u001b[0m \u001b[0mint\u001b[0m\u001b[1;33m(\u001b[0m\u001b[0minput\u001b[0m\u001b[1;33m(\u001b[0m\u001b[1;34m\"Enter a number: \"\u001b[0m\u001b[1;33m)\u001b[0m\u001b[1;33m)\u001b[0m\u001b[1;33m\u001b[0m\u001b[1;33m\u001b[0m\u001b[0m\n\u001b[1;32m----> 2\u001b[1;33m \u001b[0mb\u001b[0m\u001b[1;33m=\u001b[0m\u001b[0mreturn_sum\u001b[0m\u001b[1;33m(\u001b[0m\u001b[0ma\u001b[0m\u001b[1;33m)\u001b[0m\u001b[1;33m\u001b[0m\u001b[1;33m\u001b[0m\u001b[0m\n\u001b[0m\u001b[0;32m      3\u001b[0m \u001b[0mprint\u001b[0m\u001b[1;33m(\u001b[0m\u001b[0mb\u001b[0m\u001b[1;33m)\u001b[0m\u001b[1;33m\u001b[0m\u001b[1;33m\u001b[0m\u001b[0m\n",
      "\u001b[1;32m<ipython-input-88-fa29b606584a>\u001b[0m in \u001b[0;36mreturn_sum\u001b[1;34m(a)\u001b[0m\n\u001b[0;32m      5\u001b[0m \u001b[1;32mdef\u001b[0m \u001b[0mreturn_sum\u001b[0m\u001b[1;33m(\u001b[0m\u001b[0ma\u001b[0m\u001b[1;33m)\u001b[0m\u001b[1;33m:\u001b[0m\u001b[1;33m\u001b[0m\u001b[1;33m\u001b[0m\u001b[0m\n\u001b[0;32m      6\u001b[0m     \u001b[1;32mfor\u001b[0m \u001b[0mi\u001b[0m \u001b[1;32min\u001b[0m \u001b[0mrange\u001b[0m\u001b[1;33m(\u001b[0m\u001b[1;36m1\u001b[0m\u001b[1;33m,\u001b[0m\u001b[1;36m4\u001b[0m\u001b[1;33m)\u001b[0m\u001b[1;33m:\u001b[0m\u001b[1;33m\u001b[0m\u001b[1;33m\u001b[0m\u001b[0m\n\u001b[1;32m----> 7\u001b[1;33m         \u001b[0ms\u001b[0m \u001b[1;33m=\u001b[0m \u001b[0msum\u001b[0m\u001b[1;33m(\u001b[0m\u001b[0mint\u001b[0m\u001b[1;33m(\u001b[0m\u001b[0mstr\u001b[0m\u001b[1;33m(\u001b[0m\u001b[0ma\u001b[0m\u001b[1;33m)\u001b[0m\u001b[1;33m*\u001b[0m\u001b[0mi\u001b[0m\u001b[1;33m)\u001b[0m\u001b[1;33m)\u001b[0m\u001b[1;33m\u001b[0m\u001b[1;33m\u001b[0m\u001b[0m\n\u001b[0m\u001b[0;32m      8\u001b[0m     \u001b[1;32mreturn\u001b[0m \u001b[0ms\u001b[0m\u001b[1;33m\u001b[0m\u001b[1;33m\u001b[0m\u001b[0m\n",
      "\u001b[1;31mTypeError\u001b[0m: 'int' object is not callable"
     ]
    }
   ],
   "source": [
    "a = int(input(\"Enter a number: \"))\n",
    "b=return_sum(a)\n",
    "print(b)"
   ]
  },
  {
   "cell_type": "code",
   "execution_count": 90,
   "id": "f88f314d",
   "metadata": {},
   "outputs": [
    {
     "name": "stdout",
     "output_type": "stream",
     "text": [
      "9\n"
     ]
    }
   ],
   "source": [
    "y =str(9)\n",
    "print(y)"
   ]
  },
  {
   "cell_type": "code",
   "execution_count": 98,
   "id": "2e8aa5b1",
   "metadata": {},
   "outputs": [
    {
     "data": {
      "text/plain": [
       "11106"
      ]
     },
     "execution_count": 98,
     "metadata": {},
     "output_type": "execute_result"
    }
   ],
   "source": [
    "return_sum(9)"
   ]
  },
  {
   "cell_type": "code",
   "execution_count": 93,
   "id": "4031bf54",
   "metadata": {},
   "outputs": [
    {
     "data": {
      "text/plain": [
       "'55'"
      ]
     },
     "execution_count": 93,
     "metadata": {},
     "output_type": "execute_result"
    }
   ],
   "source": [
    "str(5)*2"
   ]
  },
  {
   "cell_type": "code",
   "execution_count": 94,
   "id": "18554d86",
   "metadata": {},
   "outputs": [
    {
     "data": {
      "text/plain": [
       "555"
      ]
     },
     "execution_count": 94,
     "metadata": {},
     "output_type": "execute_result"
    }
   ],
   "source": [
    "int(str(5)*3)"
   ]
  },
  {
   "cell_type": "code",
   "execution_count": 100,
   "id": "6d428480",
   "metadata": {},
   "outputs": [],
   "source": [
    "# Define a function which can print a dictionary where the keys are numbers \n",
    "# between 1 and 20 (both included) and the values are square of keys.\n",
    "\n",
    "def printdict():\n",
    "    dict={}\n",
    "    for i in range(1,21):\n",
    "        dict[i]=i**2\n",
    "    return dict\n",
    "    "
   ]
  },
  {
   "cell_type": "code",
   "execution_count": 101,
   "id": "181ebe75",
   "metadata": {},
   "outputs": [
    {
     "data": {
      "text/plain": [
       "{1: 1,\n",
       " 2: 4,\n",
       " 3: 9,\n",
       " 4: 16,\n",
       " 5: 25,\n",
       " 6: 36,\n",
       " 7: 49,\n",
       " 8: 64,\n",
       " 9: 81,\n",
       " 10: 100,\n",
       " 11: 121,\n",
       " 12: 144,\n",
       " 13: 169,\n",
       " 14: 196,\n",
       " 15: 225,\n",
       " 16: 256,\n",
       " 17: 289,\n",
       " 18: 324,\n",
       " 19: 361,\n",
       " 20: 400}"
      ]
     },
     "execution_count": 101,
     "metadata": {},
     "output_type": "execute_result"
    }
   ],
   "source": [
    "printdict()"
   ]
  },
  {
   "cell_type": "code",
   "execution_count": 3,
   "id": "ed5949d1",
   "metadata": {},
   "outputs": [
    {
     "name": "stdout",
     "output_type": "stream",
     "text": [
      "2002,2009,2016,2023,2037,2044,2051,2058,2072,2079,2086,2093,2107,2114,2121,2128,2142,2149,2156,2163,2177,2184,2191,2198,2212,2219,2226,2233,2247,2254,2261,2268,2282,2289,2296,2303,2317,2324,2331,2338,2352,2359,2366,2373,2387,2394,2401,2408,2422,2429,2436,2443,2457,2464,2471,2478,2492,2499,2506,2513,2527,2534,2541,2548,2562,2569,2576,2583,2597,2604,2611,2618,2632,2639,2646,2653,2667,2674,2681,2688,2702,2709,2716,2723,2737,2744,2751,2758,2772,2779,2786,2793,2807,2814,2821,2828,2842,2849,2856,2863,2877,2884,2891,2898,2912,2919,2926,2933,2947,2954,2961,2968,2982,2989,2996,3003,3017,3024,3031,3038,3052,3059,3066,3073,3087,3094,3101,3108,3122,3129,3136,3143,3157,3164,3171,3178,3192,3199\n"
     ]
    }
   ],
   "source": [
    "#Write a program which will find all such numbers which are divisible by 7 but are not a multiple of 5,\n",
    "#between 2000 and 3200 (both included)\n",
    "\n",
    "l = []\n",
    "for i in range(2000,3201):\n",
    "    if (i%7 == 0) and (i%5!=0):\n",
    "        l.append(str(i))\n",
    "print(\",\".join(l))"
   ]
  },
  {
   "cell_type": "code",
   "execution_count": 5,
   "id": "a5483d25",
   "metadata": {},
   "outputs": [
    {
     "name": "stdout",
     "output_type": "stream",
     "text": [
      "8,9\n"
     ]
    }
   ],
   "source": [
    "print(\",\".join(['8','9']))"
   ]
  },
  {
   "cell_type": "code",
   "execution_count": 14,
   "id": "0e201651",
   "metadata": {},
   "outputs": [
    {
     "name": "stdout",
     "output_type": "stream",
     "text": [
      "Enter 5 numbers:2,3,4,5,6\n",
      "[2, 3, 4, 5, 6]\n"
     ]
    }
   ],
   "source": [
    "# Write a program which accepts a sequence of comma-separated numbers from console and \n",
    "# generate a list and a tuple which contains every number.\n",
    "\n",
    "num = input(\"Enter 5 numbers:\")\n",
    "values = num.split(\",\")\n",
    "values_int = list(map(lambda x: int(x),values))\n",
    "print(values_int)\n"
   ]
  },
  {
   "cell_type": "code",
   "execution_count": 15,
   "id": "269ec727",
   "metadata": {},
   "outputs": [
    {
     "name": "stdout",
     "output_type": "stream",
     "text": [
      "(2, 3, 4, 5, 6)\n"
     ]
    }
   ],
   "source": [
    "values_tuple = tuple(values_int)\n",
    "print(values_tuple)"
   ]
  },
  {
   "cell_type": "code",
   "execution_count": null,
   "id": "255fa218",
   "metadata": {},
   "outputs": [],
   "source": [
    "# Write a program which accepts a sequence of comma separated 4 digit binary numbers as its input \n",
    "# and then check whether they are divisible by 5 or not. \n",
    "# The numbers that are divisible by 5 are to be printed in a comma separated sequence.\n",
    "# Example:\n",
    "# 0100,0011,1010,1001\n",
    "\n",
    "num = input(\"Enter a comma seperated 4 digit binary number: \")\n",
    "nums=num.split(\",\")\n",
    "if nums[-1] == 0 :\n",
    "    print(\"number is \")"
   ]
  },
  {
   "cell_type": "code",
   "execution_count": 34,
   "id": "d052df62",
   "metadata": {},
   "outputs": [
    {
     "name": "stdout",
     "output_type": "stream",
     "text": [
      "enter comma separated 4 digit binary numbers: 0100,0011,1010,1001\n",
      "1010\n"
     ]
    }
   ],
   "source": [
    "num = input(\"enter comma separated 4 digit binary numbers: \")\n",
    "lst = []\n",
    "nums = num.split(\",\")\n",
    "for item in  nums:\n",
    "    int_item=int(item,2)\n",
    "    if int_item %5 ==0 :\n",
    "        lst.append(item)\n",
    "print(\",\".join(lst))"
   ]
  },
  {
   "cell_type": "code",
   "execution_count": 21,
   "id": "7fdbe20a",
   "metadata": {},
   "outputs": [
    {
     "data": {
      "text/plain": [
       "4567"
      ]
     },
     "execution_count": 21,
     "metadata": {},
     "output_type": "execute_result"
    }
   ],
   "source": [
    "c='4567'\n",
    "int(c)"
   ]
  },
  {
   "cell_type": "code",
   "execution_count": 26,
   "id": "f8c81fc6",
   "metadata": {},
   "outputs": [
    {
     "data": {
      "text/plain": [
       "2430"
      ]
     },
     "execution_count": 26,
     "metadata": {},
     "output_type": "execute_result"
    }
   ],
   "source": [
    "c='4576'\n",
    "int(c,8)"
   ]
  },
  {
   "cell_type": "code",
   "execution_count": 27,
   "id": "b2ff2cc3",
   "metadata": {},
   "outputs": [
    {
     "data": {
      "text/plain": [
       "4567"
      ]
     },
     "execution_count": 27,
     "metadata": {},
     "output_type": "execute_result"
    }
   ],
   "source": [
    "c='4567'\n",
    "int(c,10)"
   ]
  },
  {
   "cell_type": "code",
   "execution_count": 28,
   "id": "969bc222",
   "metadata": {},
   "outputs": [
    {
     "data": {
      "text/plain": [
       "17767"
      ]
     },
     "execution_count": 28,
     "metadata": {},
     "output_type": "execute_result"
    }
   ],
   "source": [
    "c='4567'\n",
    "int(c,16)"
   ]
  },
  {
   "cell_type": "code",
   "execution_count": 35,
   "id": "7b1935ff",
   "metadata": {},
   "outputs": [
    {
     "name": "stdout",
     "output_type": "stream",
     "text": [
      "2000,2002,2004,2006,2008,2020,2022,2024,2026,2028,2040,2042,2044,2046,2048,2060,2062,2064,2066,2068,2080,2082,2084,2086,2088,2200,2202,2204,2206,2208,2220,2222,2224,2226,2228,2240,2242,2244,2246,2248,2260,2262,2264,2266,2268,2280,2282,2284,2286,2288,2400,2402,2404,2406,2408,2420,2422,2424,2426,2428,2440,2442,2444,2446,2448,2460,2462,2464,2466,2468,2480,2482,2484,2486,2488,2600,2602,2604,2606,2608,2620,2622,2624,2626,2628,2640,2642,2644,2646,2648,2660,2662,2664,2666,2668,2680,2682,2684,2686,2688,2800,2802,2804,2806,2808,2820,2822,2824,2826,2828,2840,2842,2844,2846,2848,2860,2862,2864,2866,2868,2880,2882,2884,2886,2888\n"
     ]
    }
   ],
   "source": [
    "#Write a program, which will find all such numbers between 1000 and 3000 (both included) \n",
    "#such that each digit of the number is an even number.\n",
    "\n",
    "lst=[]\n",
    "for i in range(1000,3001):\n",
    "    str_i = str(i)\n",
    "    for j in str_i:\n",
    "        if (int(j)%2 != 0):\n",
    "            break\n",
    "    else:\n",
    "        lst.append(str_i)\n",
    "print(','.join(lst))"
   ]
  },
  {
   "cell_type": "code",
   "execution_count": 37,
   "id": "82055258",
   "metadata": {},
   "outputs": [
    {
     "name": "stdout",
     "output_type": "stream",
     "text": [
      "2000,2002,2004,2006,2008,2020,2022,2024,2026,2028,2040,2042,2044,2046,2048,2060,2062,2064,2066,2068,2080,2082,2084,2086,2088,2200,2202,2204,2206,2208,2220,2222,2224,2226,2228,2240,2242,2244,2246,2248,2260,2262,2264,2266,2268,2280,2282,2284,2286,2288,2400,2402,2404,2406,2408,2420,2422,2424,2426,2428,2440,2442,2444,2446,2448,2460,2462,2464,2466,2468,2480,2482,2484,2486,2488,2600,2602,2604,2606,2608,2620,2622,2624,2626,2628,2640,2642,2644,2646,2648,2660,2662,2664,2666,2668,2680,2682,2684,2686,2688,2800,2802,2804,2806,2808,2820,2822,2824,2826,2828,2840,2842,2844,2846,2848,2860,2862,2864,2866,2868,2880,2882,2884,2886,2888\n"
     ]
    }
   ],
   "source": [
    "values = []\n",
    "for i in range(1000, 3001):\n",
    "    s = str(i)\n",
    "    if (int(s[0])%2==0) and (int(s[1])%2==0) and (int(s[2])%2==0) and (int(s[3])%2==0):\n",
    "        values.append(s)\n",
    "print (\",\".join(values))"
   ]
  },
  {
   "cell_type": "code",
   "execution_count": 4,
   "id": "d166708c",
   "metadata": {
    "scrolled": true
   },
   "outputs": [
    {
     "name": "stdout",
     "output_type": "stream",
     "text": [
      "for is a valid keyword\n",
      "if is a valid keyword\n",
      "preetam is not a valid keyword\n",
      "while is a valid keyword\n",
      "print is not a valid keyword\n",
      "None is a valid keyword\n",
      "True is a valid keyword\n",
      "while is a valid keyword\n"
     ]
    }
   ],
   "source": [
    "#How to check if a string is a valid keyword in Python?\n",
    "\n",
    "#In programming, a keyword is a “reserved word” by the language which conveys special meaning to the interpreter.\n",
    "#It may be a command or a parameter. Keywords cannot be used as a variable name in the program snippet.\n",
    "\n",
    "import keyword\n",
    "lst = [\"for\",\"if\",\"preetam\",\"while\",\"print\",\"None\",\"True\",\"while\"]\n",
    "\n",
    "for i in range(len(lst)):\n",
    "    if keyword.iskeyword(lst[i]):\n",
    "        print(f\"{lst[i]} is a valid keyword\")\n",
    "    else:\n",
    "        print(f\"{lst[i]} is not a valid keyword\")"
   ]
  },
  {
   "cell_type": "code",
   "execution_count": 6,
   "id": "d5be56e8",
   "metadata": {},
   "outputs": [
    {
     "name": "stdout",
     "output_type": "stream",
     "text": [
      "6\n"
     ]
    }
   ],
   "source": [
    "# Instructions written in the source code for execution are called statements.\n",
    "#Comments are the useful information that the developers provide to make the reader understand the source code.\n",
    "\n",
    "\n",
    "# There are different types of statements in the Python programming language like Assignment statements, \n",
    "#Conditional statements, Looping statements, etc. These all help the user to get the required output. \n",
    "# For example, n = 50 is an assignment statement.\n",
    "# Multi-Line Statements: \n",
    "# Statements in Python can be extended to one or more lines using parentheses (), braces {}, square brackets [], \n",
    "#semi-colon (;),continuation character slash (\\).\n",
    "# When the programmer needs to do long calculations and cannot fit his statements into one line, \n",
    "# one can make use of these characters.\n",
    "\n",
    "s = 1+2 \\\n",
    "    +3\n",
    "print(s)"
   ]
  },
  {
   "cell_type": "code",
   "execution_count": 8,
   "id": "b42fb9d0",
   "metadata": {},
   "outputs": [
    {
     "name": "stdout",
     "output_type": "stream",
     "text": [
      "1505 1540 1575 1610 1645 1680 1715 1750 1785 1820 1855 1890 1925 1960 1995 2030 2065 2100 2135 2170 2205 2240 2275 2310 2345 2380 2415 2450 2485 2520 2555 2590 2625 2660 2695 "
     ]
    }
   ],
   "source": [
    "#Write a Python program to find those numbers which are divisible by 7 and multiple of 5, between 1500 and 2700\n",
    "\n",
    "for i in range(1500,2701):\n",
    "    if (i%7 == 0) and (i%5 == 0):\n",
    "        print(i,end=\" \")"
   ]
  },
  {
   "cell_type": "code",
   "execution_count": 9,
   "id": "da1596e2",
   "metadata": {},
   "outputs": [
    {
     "name": "stdout",
     "output_type": "stream",
     "text": [
      "1505,1540,1575,1610,1645,1680,1715,1750,1785,1820,1855,1890,1925,1960,1995,2030,2065,2100,2135,2170,2205,2240,2275,2310,2345,2380,2415,2450,2485,2520,2555,2590,2625,2660,2695\n"
     ]
    }
   ],
   "source": [
    "lst=[]\n",
    "for i in range(1500,2701):\n",
    "    if (i%7 == 0) and (i%5 == 0):\n",
    "        lst.append(str(i))\n",
    "print(\",\".join(lst))"
   ]
  },
  {
   "cell_type": "code",
   "execution_count": 10,
   "id": "5047638c",
   "metadata": {},
   "outputs": [
    {
     "data": {
      "text/plain": [
       "35"
      ]
     },
     "execution_count": 10,
     "metadata": {},
     "output_type": "execute_result"
    }
   ],
   "source": [
    "len(lst)"
   ]
  },
  {
   "cell_type": "code",
   "execution_count": 17,
   "id": "6f1c1f1f",
   "metadata": {},
   "outputs": [],
   "source": [
    "#Write a Python program to sum of two given integers. if the sum is between 15 to 20 it will return 20\n",
    "\n",
    "def myfunc(num1,num2):\n",
    "    s  = num1+num2\n",
    "    if (s>=15) and (s<=20):\n",
    "        return 20\n",
    "    else:\n",
    "        return s"
   ]
  },
  {
   "cell_type": "code",
   "execution_count": 16,
   "id": "79846a3f",
   "metadata": {},
   "outputs": [
    {
     "name": "stdout",
     "output_type": "stream",
     "text": [
      "Enter first num:10\n",
      "Enter second num:20\n"
     ]
    },
    {
     "data": {
      "text/plain": [
       "30"
      ]
     },
     "execution_count": 16,
     "metadata": {},
     "output_type": "execute_result"
    }
   ],
   "source": [
    "num1 = int(input(\"Enter first num:\"))\n",
    "num2 = int(input(\"Enter second num:\"))\n",
    "\n",
    "myfunc(num1,num2)"
   ]
  },
  {
   "cell_type": "code",
   "execution_count": 23,
   "id": "0d6afd55",
   "metadata": {},
   "outputs": [
    {
     "name": "stdout",
     "output_type": "stream",
     "text": [
      "Enter a num:678\n",
      "Enter a num:1239\n",
      "Enter a num:567\n",
      "1239\n"
     ]
    }
   ],
   "source": [
    "#Python program to find the maximum ODD number\n",
    "\n",
    "n=0               #loop counter\n",
    "num = 0           #to store the input value\n",
    "nummax = 0        #to store max odd num\n",
    "while (n<3):\n",
    "    num = int(input(\"Enter a num:\"))\n",
    "    if num%2 != 0 :\n",
    "        if num > nummax:\n",
    "            nummax = num\n",
    "    n+=1\n",
    "print(nummax)"
   ]
  },
  {
   "cell_type": "code",
   "execution_count": 60,
   "id": "2b3b7f66",
   "metadata": {},
   "outputs": [
    {
     "name": "stdout",
     "output_type": "stream",
     "text": [
      "no of elements in the list:5\n",
      "6\n",
      "28\n",
      "496\n",
      "678\n",
      "500\n",
      "6 is a perfect number\n",
      "28 is a perfect number\n",
      "496 is a perfect number\n"
     ]
    }
   ],
   "source": [
    "#Python program to print perfect numbers from the given list of integers\n",
    "#a perfect number is a positive integer that is equal to the sum of its positive divisors, excluding the number itself. \n",
    "#For instance, 6 has divisors 1, 2 and 3, and 1 + 2 + 3 = 6, so 6 is a perfect number.\n",
    "\n",
    "\n",
    "\n",
    "def check_perfect_number(num):\n",
    "    lst=[]\n",
    "    for i in range(1,num):\n",
    "        if num%i == 0:\n",
    "            lst.append(i)\n",
    "    total = 0\n",
    "    for i in range(len(lst)):\n",
    "        total = total + lst[i]\n",
    "   \n",
    "    if total == num :\n",
    "        print(f\"{num} is a perfect number\")\n",
    "\n",
    "if __name__==\"__main__\":\n",
    "    lst1=[]\n",
    "    n = int(input(\"no of elements in the list:\"))\n",
    "    for i in range(n):\n",
    "        lst1.append(int(input()))\n",
    "    for i in lst1:\n",
    "        check_perfect_number(i)"
   ]
  },
  {
   "cell_type": "code",
   "execution_count": 62,
   "id": "23e0ab0a",
   "metadata": {},
   "outputs": [
    {
     "data": {
      "text/plain": [
       "9"
      ]
     },
     "execution_count": 62,
     "metadata": {},
     "output_type": "execute_result"
    }
   ],
   "source": [
    "def sum_num(lst):\n",
    "    total=0\n",
    "    for i in range(len(lst)):\n",
    "        total = total + lst[i]\n",
    "    return total\n",
    "\n",
    "sum_num([1,2,6])"
   ]
  },
  {
   "cell_type": "code",
   "execution_count": 61,
   "id": "b601c553",
   "metadata": {},
   "outputs": [
    {
     "name": "stdout",
     "output_type": "stream",
     "text": [
      "29.5\n"
     ]
    }
   ],
   "source": [
    "lst=[5,9,6,9.5]\n",
    "total=0\n",
    "for i in range(len(lst)):\n",
    "    total = total + lst[i]\n",
    "print(total)"
   ]
  },
  {
   "cell_type": "code",
   "execution_count": 71,
   "id": "b888479a",
   "metadata": {},
   "outputs": [],
   "source": [
    "#Using while loop and an if statement write a function named name_adder which appends all the elements in a list to a new list \n",
    "#unless the element is an empty string: \"\"\n",
    "\n",
    "def name_adder(lst1):\n",
    "    my_lst = []\n",
    "    for i in range(len(lst1)):\n",
    "        if lst1[i] != \"\":\n",
    "            my_lst.append(lst1[i])\n",
    "    return my_lst"
   ]
  },
  {
   "cell_type": "code",
   "execution_count": 72,
   "id": "05666c0b",
   "metadata": {},
   "outputs": [
    {
     "data": {
      "text/plain": [
       "['Joe', 'Sarah', 'Mike', 'Jess', 'Matt', 'Greg']"
      ]
     },
     "execution_count": 72,
     "metadata": {},
     "output_type": "execute_result"
    }
   ],
   "source": [
    "name_adder([\"Joe\", \"Sarah\", \"Mike\", \"Jess\", \"\", \"Matt\", \"\", \"Greg\"])"
   ]
  },
  {
   "cell_type": "code",
   "execution_count": 76,
   "id": "e9930af9",
   "metadata": {},
   "outputs": [
    {
     "name": "stdout",
     "output_type": "stream",
     "text": [
      "Enter a num: 3\n",
      "67\n",
      "98\n",
      "23\n",
      "max num is 98\n"
     ]
    }
   ],
   "source": [
    "#Find the largest item from a given list\n",
    "n= int(input(\"Enter a num: \"))\n",
    "l = []\n",
    "for i in range(n):\n",
    "    l.append(int(input()))\n",
    "\n",
    "max_num = 0\n",
    "c=0\n",
    "while c < n:\n",
    "    if l[c] > max_num:\n",
    "        max_num = l[c]\n",
    "    c+=1\n",
    "print(f\"max num is {max_num}\")"
   ]
  },
  {
   "cell_type": "code",
   "execution_count": 78,
   "id": "e9f45ec1",
   "metadata": {},
   "outputs": [
    {
     "name": "stdout",
     "output_type": "stream",
     "text": [
      "Enter anything: sjhgdhg7635bdsmbge3ey@3 xbajh099838dbee4\n",
      "Sum:  68\n",
      "Avg:  5.230769230769231\n"
     ]
    }
   ],
   "source": [
    "#Exercise 9: Calculate the sum and average of the digits present in a string\n",
    "inp = input(\"Enter anything: \")\n",
    "l=[]\n",
    "for i in inp:\n",
    "    if i.isdigit() == True:\n",
    "        l.append(int(i))\n",
    "total = 0\n",
    "for i in l:\n",
    "    total  = total + i\n",
    "print(\"Sum: \", total)\n",
    "print(\"Avg: \", total/len(l))  "
   ]
  },
  {
   "cell_type": "code",
   "execution_count": 77,
   "id": "3dfd0017",
   "metadata": {},
   "outputs": [
    {
     "name": "stdout",
     "output_type": "stream",
     "text": [
      "[2, 3, 5, 8]\n"
     ]
    }
   ],
   "source": [
    "l=[2,3,5]\n",
    "l.append(8)\n",
    "print(l)"
   ]
  },
  {
   "cell_type": "code",
   "execution_count": 80,
   "id": "6a3f7a49",
   "metadata": {},
   "outputs": [
    {
     "name": "stdout",
     "output_type": "stream",
     "text": [
      "Enter a num: 4\n",
      "45\n",
      "98\n",
      "12\n",
      "89\n",
      "[45, 98, 12, 89]\n",
      "98\n",
      "89\n"
     ]
    }
   ],
   "source": [
    "#Exercise 15: Use a loop to display elements from a given list present at odd index positions\n",
    "\n",
    "n= int(input(\"Enter a num: \"))\n",
    "l = []\n",
    "for i in range(n):\n",
    "    l.append(int(input()))\n",
    "print(l)\n",
    "for i in range(n):\n",
    "    if i%2!=0:\n",
    "        print(l[i])"
   ]
  },
  {
   "cell_type": "code",
   "execution_count": 82,
   "id": "575a249d",
   "metadata": {},
   "outputs": [
    {
     "name": "stdout",
     "output_type": "stream",
     "text": [
      "Enter a num: 3\n",
      "67\n",
      "98\n",
      "45\n",
      "[67, 98, 45]\n",
      "[45, 98, 67]\n"
     ]
    }
   ],
   "source": [
    "#Exercise 8: Print list in reverse order using a loop\n",
    "n= int(input(\"Enter a num: \"))\n",
    "l = []\n",
    "for i in range(n):\n",
    "    l.append(int(input()))\n",
    "print(l)\n",
    "\n",
    "reverse_lst =[]\n",
    "for i in range(len(l)-1,-1,-1):\n",
    "    reverse_lst.append(l[i])\n",
    "print(reverse_lst)"
   ]
  },
  {
   "cell_type": "code",
   "execution_count": 83,
   "id": "1d8c9189",
   "metadata": {},
   "outputs": [
    {
     "name": "stdout",
     "output_type": "stream",
     "text": [
      "80\n"
     ]
    }
   ],
   "source": [
    "# Exercise 3: Print the value of key ‘history’ from the below dict\n",
    "sampleDict = {\n",
    "    \"class\": {\n",
    "        \"student\": {\n",
    "            \"name\": \"Mike\",\n",
    "            \"marks\": {\n",
    "                \"physics\": 70,\n",
    "                \"history\": 80\n",
    "            }\n",
    "        }\n",
    "    }\n",
    "}\n",
    "\n",
    "print(sampleDict[\"class\"][\"student\"][\"marks\"][\"history\"])"
   ]
  },
  {
   "cell_type": "code",
   "execution_count": 86,
   "id": "a1643e87",
   "metadata": {},
   "outputs": [
    {
     "name": "stdout",
     "output_type": "stream",
     "text": [
      "{'Kelly': {'designation': 'Developer', 'salary': 8000}, 'Emma': {'designation': 'Developer', 'salary': 8000}}\n"
     ]
    }
   ],
   "source": [
    "#Initialize dictionary with default values\n",
    "\n",
    "employees = ['Kelly', 'Emma']\n",
    "defaults = {\"designation\": 'Developer', \"salary\": 8000}\n",
    "\n",
    "res = dict.fromkeys(employees,defaults)\n",
    "print(res)"
   ]
  },
  {
   "cell_type": "code",
   "execution_count": 87,
   "id": "952a8b4c",
   "metadata": {},
   "outputs": [
    {
     "ename": "KeyError",
     "evalue": "'kelly'",
     "output_type": "error",
     "traceback": [
      "\u001b[1;31m---------------------------------------------------------------------------\u001b[0m",
      "\u001b[1;31mKeyError\u001b[0m                                  Traceback (most recent call last)",
      "\u001b[1;32m<ipython-input-87-53e5ddd4e7b3>\u001b[0m in \u001b[0;36m<module>\u001b[1;34m\u001b[0m\n\u001b[1;32m----> 1\u001b[1;33m \u001b[0mprint\u001b[0m\u001b[1;33m(\u001b[0m\u001b[0mres\u001b[0m\u001b[1;33m[\u001b[0m\u001b[1;34m\"kelly\"\u001b[0m\u001b[1;33m]\u001b[0m\u001b[1;33m)\u001b[0m\u001b[1;33m\u001b[0m\u001b[1;33m\u001b[0m\u001b[0m\n\u001b[0m",
      "\u001b[1;31mKeyError\u001b[0m: 'kelly'"
     ]
    }
   ],
   "source": [
    "print(res[\"kelly\"])"
   ]
  },
  {
   "cell_type": "code",
   "execution_count": 90,
   "id": "760eb2d2",
   "metadata": {},
   "outputs": [
    {
     "name": "stdout",
     "output_type": "stream",
     "text": [
      "{'name': 'Kelly', 'salary': 8000}\n"
     ]
    }
   ],
   "source": [
    "sample_dict = {\n",
    "    \"name\": \"Kelly\",\n",
    "    \"age\": 25,\n",
    "    \"salary\": 8000,\n",
    "    \"city\": \"New york\"}\n",
    "\n",
    "# Keys to extract\n",
    "keys = [\"name\", \"salary\"]\n",
    "\n",
    "new_dict={}\n",
    "for key in keys:\n",
    "    new_dict[key] = sample_dict[key]\n",
    "print(new_dict)\n"
   ]
  },
  {
   "cell_type": "code",
   "execution_count": 91,
   "id": "103e5911",
   "metadata": {},
   "outputs": [
    {
     "name": "stdout",
     "output_type": "stream",
     "text": [
      "{'name': 'Kelly', 'salary': 8000}\n"
     ]
    }
   ],
   "source": [
    "sample_dict = {\n",
    "    \"name\": \"Kelly\",\n",
    "    \"age\": 25,\n",
    "    \"salary\": 8000,\n",
    "    \"city\": \"New york\"}\n",
    "\n",
    "# Keys to extract\n",
    "keys = [\"name\", \"salary\"]\n",
    "new_dict={}\n",
    "for key in keys:\n",
    "    new_dict.update({key:sample_dict[key]})\n",
    "print(new_dict)\n"
   ]
  },
  {
   "cell_type": "code",
   "execution_count": 96,
   "id": "61555658",
   "metadata": {},
   "outputs": [
    {
     "name": "stdout",
     "output_type": "stream",
     "text": [
      "{'age': 25, 'city': 'New york'}\n"
     ]
    }
   ],
   "source": [
    "#Exercise 6: Delete a list of keys from a dictionary\n",
    "sample_dict = {\n",
    "    \"name\": \"Kelly\",\n",
    "    \"age\": 25,\n",
    "    \"salary\": 8000,\n",
    "    \"city\": \"New york\"}\n",
    "\n",
    "# Keys to delete\n",
    "keys = [\"name\", \"salary\"]\n",
    "\n",
    "for key in keys:\n",
    "    sample_dict.pop(key)\n",
    "print(sample_dict)"
   ]
  },
  {
   "cell_type": "code",
   "execution_count": 98,
   "id": "0fb0c5ca",
   "metadata": {},
   "outputs": [
    {
     "name": "stdout",
     "output_type": "stream",
     "text": [
      "enter a num: 8990\n",
      "Doesnot exist\n"
     ]
    }
   ],
   "source": [
    "#Exercise 7: Check if a value exists in a dictionary\n",
    "n= int(input(\"enter a num: \"))\n",
    "sample_dict = {'a': 100, 'b': 200, 'c': 300}\n",
    "if n in sample_dict.values():\n",
    "    print(\"exists\")\n",
    "else:\n",
    "    print(\"Does not exist\")"
   ]
  },
  {
   "cell_type": "code",
   "execution_count": 100,
   "id": "dc7c3978",
   "metadata": {},
   "outputs": [
    {
     "name": "stdout",
     "output_type": "stream",
     "text": [
      "{'emp1': {'name': 'Jhon', 'salary': 7500}, 'emp2': {'name': 'Emma', 'salary': 8000}, 'emp3': {'name': 'Brad', 'salary': 8500}}\n"
     ]
    }
   ],
   "source": [
    "#Exercise 10: Change value of a key in a nested dictionary\n",
    "sample_dict = {\n",
    "    'emp1': {'name': 'Jhon', 'salary': 7500},\n",
    "    'emp2': {'name': 'Emma', 'salary': 8000},\n",
    "    'emp3': {'name': 'Brad', 'salary': 500}\n",
    "}\n",
    "\n",
    "sample_dict[\"emp3\"][\"salary\"] = 8500\n",
    "print(sample_dict)"
   ]
  },
  {
   "cell_type": "code",
   "execution_count": 101,
   "id": "8e995290",
   "metadata": {},
   "outputs": [
    {
     "name": "stdout",
     "output_type": "stream",
     "text": [
      "range(0, 10)\n"
     ]
    }
   ],
   "source": [
    "y=range(10)\n",
    "print(y)"
   ]
  },
  {
   "cell_type": "code",
   "execution_count": 104,
   "id": "a955b352",
   "metadata": {},
   "outputs": [
    {
     "name": "stdout",
     "output_type": "stream",
     "text": [
      "18\n"
     ]
    }
   ],
   "source": [
    "z = range(10,100,5)\n",
    "print(len(z))"
   ]
  },
  {
   "cell_type": "code",
   "execution_count": 111,
   "id": "d004c634",
   "metadata": {},
   "outputs": [
    {
     "name": "stdout",
     "output_type": "stream",
     "text": [
      "5\n",
      "13\n",
      "25\n",
      "41\n",
      "61\n",
      "85\n",
      "113\n",
      "145\n"
     ]
    }
   ],
   "source": [
    "y = 1\n",
    "for x in range (4, 34, 4):\n",
    "    y = y + x\n",
    "    if (y > 512):\n",
    "        break\n",
    "    print(y)"
   ]
  },
  {
   "cell_type": "code",
   "execution_count": 112,
   "id": "d24c316a",
   "metadata": {},
   "outputs": [
    {
     "name": "stdout",
     "output_type": "stream",
     "text": [
      "5\n",
      "13\n",
      "25\n"
     ]
    }
   ],
   "source": [
    "y = 1\n",
    "for x in range (4, 34, 4):\n",
    "    y = y + x\n",
    "    if (y > 40):\n",
    "        break\n",
    "    print(y)"
   ]
  },
  {
   "cell_type": "code",
   "execution_count": 114,
   "id": "c492205b",
   "metadata": {},
   "outputs": [
    {
     "name": "stdout",
     "output_type": "stream",
     "text": [
      "5\n",
      "13\n",
      "25\n"
     ]
    }
   ],
   "source": [
    "y = 1\n",
    "for x in range (4, 34, 4):\n",
    "    y = y + x\n",
    "    if (y > 40):\n",
    "        break\n",
    "    else:\n",
    "        print(y)"
   ]
  },
  {
   "cell_type": "code",
   "execution_count": 116,
   "id": "eb4ef3d4",
   "metadata": {},
   "outputs": [
    {
     "name": "stdout",
     "output_type": "stream",
     "text": [
      "5\n",
      "13\n",
      "25\n",
      "61\n",
      "85\n",
      "113\n",
      "145\n"
     ]
    }
   ],
   "source": [
    "y = 1\n",
    "for x in range (4, 34, 4):\n",
    "    y = y + x\n",
    "    if (y == 41):\n",
    "        continue\n",
    "    print(y)"
   ]
  },
  {
   "cell_type": "code",
   "execution_count": 117,
   "id": "109b83fe",
   "metadata": {},
   "outputs": [
    {
     "name": "stdout",
     "output_type": "stream",
     "text": [
      "Enter a num: 5\n",
      "{1: 1, 2: 4, 3: 9, 4: 16, 5: 25}\n"
     ]
    }
   ],
   "source": [
    "#Question: With a given integral number n, write a program to generate a dictionary that contains (i, i*i) \n",
    "#such that is an integral number between 1 and n (both included). \n",
    "#and then the program should print the dictionary\n",
    "\n",
    "n = int(input(\"Enter a num: \"))\n",
    "dict = {}\n",
    "for i in range(n):\n",
    "    dict[i+1] = (i+1)**2\n",
    "print(dict)"
   ]
  },
  {
   "cell_type": "code",
   "execution_count": 118,
   "id": "64e3928c",
   "metadata": {},
   "outputs": [
    {
     "data": {
      "text/plain": [
       "'D:\\\\Praxis Business School\\\\First Term\\\\PY-Python\\\\2.10.02.2022\\\\Python_Prog_Set_2'"
      ]
     },
     "execution_count": 118,
     "metadata": {},
     "output_type": "execute_result"
    }
   ],
   "source": [
    "import os\n",
    "os.getcwd()"
   ]
  },
  {
   "cell_type": "code",
   "execution_count": 122,
   "id": "d69a4262",
   "metadata": {},
   "outputs": [
    {
     "name": "stdout",
     "output_type": "stream",
     "text": [
      "dshghjs6778\n",
      "4535gsgdshhjj\n",
      "m,njhdfFLjdsj8376%%$fmv\n",
      "chhj647F:v,vcjiofrie dghhdshjds\n",
      "\n",
      "DSHGHJS6778\n",
      "4535GSGDSHHJJ\n",
      "M,NJHDFFLJDSJ8376%%$FMV\n",
      "CHHJ647F:V,VCJIOFRIE DGHHDSHJDS\n"
     ]
    }
   ],
   "source": [
    "# Write a program that accepts sequence of lines as input and prints the lines after making all characters in the sentence \n",
    "#capitalized. Suppose the following input is supplied to the program: Hello world Practice makes perfect Then, \n",
    "#the output should be: HELLO WORLD PRACTICE MAKES PERFECT\n",
    "\n",
    "lines=[]\n",
    "while True:\n",
    "    inp = input()\n",
    "    if inp:\n",
    "        lines.append(inp.upper())\n",
    "    else:\n",
    "        break\n",
    "\n",
    "for sentence in lines:\n",
    "    print(sentence)\n",
    "        "
   ]
  },
  {
   "cell_type": "code",
   "execution_count": 126,
   "id": "88e605c5",
   "metadata": {},
   "outputs": [
    {
     "name": "stdout",
     "output_type": "stream",
     "text": [
      "Hello world!\n",
      "upper case: 1, lower case: 9\n"
     ]
    }
   ],
   "source": [
    "#Question: Write a program that accepts a sentence and calculate the number of upper case letters and lower case letters. \n",
    "#Suppose the following input is supplied to the program: \n",
    "#Hello world! Then, the output should be: UPPER CASE 1 LOWER CASE 9\n",
    "\n",
    "inp = input()\n",
    "upper_count = 0\n",
    "lower_count = 0\n",
    "for i in inp:\n",
    "    if i.isupper() == True:\n",
    "        upper_count += 1\n",
    "    elif i.islower() == True:\n",
    "        lower_count += 1\n",
    "    else:\n",
    "        pass\n",
    "print(f\"upper case: {upper_count}, lower case: {lower_count}\")"
   ]
  },
  {
   "cell_type": "code",
   "execution_count": 154,
   "id": "e208ac33",
   "metadata": {},
   "outputs": [
    {
     "name": "stdout",
     "output_type": "stream",
     "text": [
      "the boy is boy zebra apple zebra boy the apple\n",
      "apple: 2\n",
      "boy: 3\n",
      "is: 1\n",
      "the: 2\n",
      "zebra: 2\n"
     ]
    }
   ],
   "source": [
    "#Question: Write a program to compute the frequency of the words from the input. \n",
    "#The output should output after sorting the key alphanumerically.\n",
    "\n",
    "def freq(str):\n",
    "    str = str.split()\n",
    "    str2=[]\n",
    "    for i in str:\n",
    "        if i not in str2:\n",
    "            str2.append(i)\n",
    "            str2.sort()\n",
    "    for i in range(len(str2)):\n",
    "        print(f\"{str2[i]}: {str.count(str2[i])}\")\n",
    "def main():\n",
    "    str = input()\n",
    "    freq(str)\n",
    "    \n",
    "if __name__==\"__main__\":\n",
    "    main()"
   ]
  },
  {
   "cell_type": "code",
   "execution_count": 151,
   "id": "2c00e2c2",
   "metadata": {},
   "outputs": [
    {
     "data": {
      "text/plain": [
       "2"
      ]
     },
     "execution_count": 151,
     "metadata": {},
     "output_type": "execute_result"
    }
   ],
   "source": [
    "lst = [\"pree\",\"pree\",\"is\"]\n",
    "lst.count(\"pree\")"
   ]
  },
  {
   "cell_type": "code",
   "execution_count": 132,
   "id": "f39584ac",
   "metadata": {},
   "outputs": [
    {
     "data": {
      "text/plain": [
       "dict_values(['i'])"
      ]
     },
     "execution_count": 132,
     "metadata": {},
     "output_type": "execute_result"
    }
   ],
   "source": [
    "d = {1:\"p\",1:\"i\"}\n",
    "d.values()"
   ]
  },
  {
   "cell_type": "code",
   "execution_count": 153,
   "id": "00ab44bf",
   "metadata": {},
   "outputs": [
    {
     "data": {
      "text/plain": [
       "['aree', 'is', 'pree']"
      ]
     },
     "execution_count": 153,
     "metadata": {},
     "output_type": "execute_result"
    }
   ],
   "source": [
    "lst = [\"pree\",\"aree\",\"is\"]\n",
    "lst.sort()\n",
    "lst"
   ]
  },
  {
   "cell_type": "markdown",
   "id": "0ee9ca52",
   "metadata": {},
   "source": [
    "# Function"
   ]
  },
  {
   "cell_type": "code",
   "execution_count": 1,
   "id": "b3dab21b",
   "metadata": {},
   "outputs": [
    {
     "name": "stdout",
     "output_type": "stream",
     "text": [
      "there are 2 fruits in the list\n",
      "apple\n",
      "banana\n"
     ]
    }
   ],
   "source": [
    "#fucntion with default arguments\n",
    "#1.\n",
    "def displayFruits(fruits=[\"apple\",\"banana\"]):\n",
    "    print(f\"there are {len(fruits)} fruits in the list\")\n",
    "    for item in fruits:\n",
    "        print(item)\n",
    "\n",
    "displayFruits()"
   ]
  },
  {
   "cell_type": "code",
   "execution_count": 2,
   "id": "5b3db23f",
   "metadata": {},
   "outputs": [
    {
     "name": "stdout",
     "output_type": "stream",
     "text": [
      "there are 1 fruits in the list\n",
      "mango\n"
     ]
    }
   ],
   "source": [
    "#2. actual paramter overrules the formal paramter\n",
    "def displayFruits(fruits=[\"apple\",\"banana\"]):\n",
    "    print(f\"there are {len(fruits)} fruits in the list\")\n",
    "    for item in fruits:\n",
    "        print(item)\n",
    "\n",
    "displayFruits(fruits = [\"mango\"])"
   ]
  },
  {
   "cell_type": "code",
   "execution_count": 3,
   "id": "a4570cc9",
   "metadata": {},
   "outputs": [
    {
     "name": "stdout",
     "output_type": "stream",
     "text": [
      "Preetam\n",
      "age : 20\n",
      "major : DS\n"
     ]
    }
   ],
   "source": [
    "#3.\n",
    "def displayStudents(name,age=20,major=\"DS\"):\n",
    "    print(name)\n",
    "    print(f\"age : {age}\")\n",
    "    print(f\"major : {major}\")\n",
    "    \n",
    "displayStudents(\"Preetam\")"
   ]
  },
  {
   "cell_type": "code",
   "execution_count": 4,
   "id": "191419d4",
   "metadata": {},
   "outputs": [
    {
     "ename": "TypeError",
     "evalue": "displayStudents() missing 1 required positional argument: 'name'",
     "output_type": "error",
     "traceback": [
      "\u001b[1;31m---------------------------------------------------------------------------\u001b[0m",
      "\u001b[1;31mTypeError\u001b[0m                                 Traceback (most recent call last)",
      "\u001b[1;32m<ipython-input-4-cbed897d4c52>\u001b[0m in \u001b[0;36m<module>\u001b[1;34m\u001b[0m\n\u001b[0;32m      5\u001b[0m     \u001b[0mprint\u001b[0m\u001b[1;33m(\u001b[0m\u001b[1;34mf\"major : {major}\"\u001b[0m\u001b[1;33m)\u001b[0m\u001b[1;33m\u001b[0m\u001b[1;33m\u001b[0m\u001b[0m\n\u001b[0;32m      6\u001b[0m \u001b[1;33m\u001b[0m\u001b[0m\n\u001b[1;32m----> 7\u001b[1;33m \u001b[0mdisplayStudents\u001b[0m\u001b[1;33m(\u001b[0m\u001b[1;33m)\u001b[0m\u001b[1;33m\u001b[0m\u001b[1;33m\u001b[0m\u001b[0m\n\u001b[0m",
      "\u001b[1;31mTypeError\u001b[0m: displayStudents() missing 1 required positional argument: 'name'"
     ]
    }
   ],
   "source": [
    "#4.\n",
    "def displayStudents(name,age=20,major=\"DS\"):\n",
    "    print(name)\n",
    "    print(f\"age : {age}\")\n",
    "    print(f\"major : {major}\")\n",
    "    \n",
    "displayStudents()"
   ]
  },
  {
   "cell_type": "code",
   "execution_count": 5,
   "id": "02f0a235",
   "metadata": {},
   "outputs": [
    {
     "ename": "NameError",
     "evalue": "name 'Preetam' is not defined",
     "output_type": "error",
     "traceback": [
      "\u001b[1;31m---------------------------------------------------------------------------\u001b[0m",
      "\u001b[1;31mNameError\u001b[0m                                 Traceback (most recent call last)",
      "\u001b[1;32m<ipython-input-5-584d9db42d18>\u001b[0m in \u001b[0;36m<module>\u001b[1;34m\u001b[0m\n\u001b[0;32m      5\u001b[0m     \u001b[0mprint\u001b[0m\u001b[1;33m(\u001b[0m\u001b[1;34mf\"major : {major}\"\u001b[0m\u001b[1;33m)\u001b[0m\u001b[1;33m\u001b[0m\u001b[1;33m\u001b[0m\u001b[0m\n\u001b[0;32m      6\u001b[0m \u001b[1;33m\u001b[0m\u001b[0m\n\u001b[1;32m----> 7\u001b[1;33m \u001b[0mdisplayStudents\u001b[0m\u001b[1;33m(\u001b[0m\u001b[0mPreetam\u001b[0m\u001b[1;33m)\u001b[0m\u001b[1;33m\u001b[0m\u001b[1;33m\u001b[0m\u001b[0m\n\u001b[0m",
      "\u001b[1;31mNameError\u001b[0m: name 'Preetam' is not defined"
     ]
    }
   ],
   "source": [
    "#5.\n",
    "def displayStudents(name,age=20,major=\"DS\"):\n",
    "    print(name)\n",
    "    print(f\"age : {age}\")\n",
    "    print(f\"major : {major}\")\n",
    "    \n",
    "displayStudents(Preetam)"
   ]
  },
  {
   "cell_type": "code",
   "execution_count": 6,
   "id": "85c07991",
   "metadata": {},
   "outputs": [
    {
     "name": "stdout",
     "output_type": "stream",
     "text": [
      "Preetam\n",
      "age : 30\n",
      "major : DS\n"
     ]
    }
   ],
   "source": [
    "#6.\n",
    "def displayStudents(name,age=20,major=\"DS\"):\n",
    "    print(name)\n",
    "    print(f\"age : {age}\")\n",
    "    print(f\"major : {major}\")\n",
    "    \n",
    "displayStudents(\"Preetam\",30)"
   ]
  },
  {
   "cell_type": "code",
   "execution_count": 7,
   "id": "fc6aa4b6",
   "metadata": {},
   "outputs": [
    {
     "name": "stdout",
     "output_type": "stream",
     "text": [
      "Preetam\n",
      "age : 45\n",
      "major : DS\n"
     ]
    }
   ],
   "source": [
    "#7.\n",
    "def displayStudents(name,age=20,major=\"DS\"):\n",
    "    print(name)\n",
    "    print(f\"age : {age}\")\n",
    "    print(f\"major : {major}\")\n",
    "    \n",
    "displayStudents(\"Preetam\",age=45)"
   ]
  },
  {
   "cell_type": "code",
   "execution_count": 8,
   "id": "eb6e7779",
   "metadata": {},
   "outputs": [
    {
     "ename": "TypeError",
     "evalue": "student() takes 1 positional argument but 2 were given",
     "output_type": "error",
     "traceback": [
      "\u001b[1;31m---------------------------------------------------------------------------\u001b[0m",
      "\u001b[1;31mTypeError\u001b[0m                                 Traceback (most recent call last)",
      "\u001b[1;32m<ipython-input-8-3a54df802b3f>\u001b[0m in \u001b[0;36m<module>\u001b[1;34m\u001b[0m\n\u001b[0;32m      6\u001b[0m         \u001b[0mprint\u001b[0m\u001b[1;33m(\u001b[0m\u001b[1;34mf\"{key}: {value}\"\u001b[0m\u001b[1;33m)\u001b[0m\u001b[1;33m\u001b[0m\u001b[1;33m\u001b[0m\u001b[0m\n\u001b[0;32m      7\u001b[0m \u001b[1;33m\u001b[0m\u001b[0m\n\u001b[1;32m----> 8\u001b[1;33m \u001b[0mstudent\u001b[0m\u001b[1;33m(\u001b[0m\u001b[1;34m\"Preetam\"\u001b[0m\u001b[1;33m,\u001b[0m\u001b[1;33m{\u001b[0m\u001b[1;34m\"age\"\u001b[0m\u001b[1;33m:\u001b[0m\u001b[1;36m20\u001b[0m\u001b[1;33m,\u001b[0m\u001b[1;34m\"major\"\u001b[0m\u001b[1;33m:\u001b[0m\u001b[1;34m\"DS\"\u001b[0m\u001b[1;33m}\u001b[0m\u001b[1;33m)\u001b[0m\u001b[1;33m\u001b[0m\u001b[1;33m\u001b[0m\u001b[0m\n\u001b[0m\u001b[0;32m      9\u001b[0m \u001b[1;33m\u001b[0m\u001b[0m\n",
      "\u001b[1;31mTypeError\u001b[0m: student() takes 1 positional argument but 2 were given"
     ]
    }
   ],
   "source": [
    "# **kwargs --> it receives all the arguments except the keyword arguments as a dictionary\n",
    "\n",
    "def student(name,**kwargs):\n",
    "    print(f\"name: {name}\")\n",
    "    for key,value in kwargs:\n",
    "        print(f\"{key}: {value}\")\n",
    "\n",
    "student(\"Preetam\",{\"age\":20,\"major\":\"DS\"})"
   ]
  },
  {
   "cell_type": "code",
   "execution_count": 11,
   "id": "a55aed47",
   "metadata": {},
   "outputs": [
    {
     "name": "stdout",
     "output_type": "stream",
     "text": [
      "name: Preetam\n",
      "age: 20\n",
      "major: DS\n",
      "address: garia\n",
      "qualifiction: engineer\n"
     ]
    }
   ],
   "source": [
    "# **kwargs\n",
    "def student(name,**kwargs):\n",
    "    print(f\"name: {name}\")\n",
    "    for key in kwargs:\n",
    "        print(f\"{key}: {kwargs[key]}\")\n",
    "\n",
    "student(\"Preetam\",age=20,major=\"DS\",address=\"garia\",qualifiction=\"engineer\")"
   ]
  },
  {
   "cell_type": "code",
   "execution_count": 12,
   "id": "07930e37",
   "metadata": {},
   "outputs": [
    {
     "ename": "NameError",
     "evalue": "name 'age' is not defined",
     "output_type": "error",
     "traceback": [
      "\u001b[1;31m---------------------------------------------------------------------------\u001b[0m",
      "\u001b[1;31mNameError\u001b[0m                                 Traceback (most recent call last)",
      "\u001b[1;32m<ipython-input-12-9ae9b973b777>\u001b[0m in \u001b[0;36m<module>\u001b[1;34m\u001b[0m\n\u001b[0;32m      6\u001b[0m         \u001b[0mprint\u001b[0m\u001b[1;33m(\u001b[0m\u001b[0mitem\u001b[0m\u001b[1;33m)\u001b[0m\u001b[1;33m\u001b[0m\u001b[1;33m\u001b[0m\u001b[0m\n\u001b[0;32m      7\u001b[0m \u001b[1;33m\u001b[0m\u001b[0m\n\u001b[1;32m----> 8\u001b[1;33m \u001b[0mstudent\u001b[0m\u001b[1;33m(\u001b[0m\u001b[1;34m\"Preetam\"\u001b[0m\u001b[1;33m,\u001b[0m\u001b[1;33m(\u001b[0m\u001b[0mage\u001b[0m\u001b[1;33m,\u001b[0m\u001b[1;36m20\u001b[0m\u001b[1;33m)\u001b[0m\u001b[1;33m)\u001b[0m\u001b[1;33m\u001b[0m\u001b[1;33m\u001b[0m\u001b[0m\n\u001b[0m\u001b[0;32m      9\u001b[0m \u001b[1;33m\u001b[0m\u001b[0m\n",
      "\u001b[1;31mNameError\u001b[0m: name 'age' is not defined"
     ]
    }
   ],
   "source": [
    "# *varargs are passed in a funtion as a tuple\n",
    "\n",
    "def student(name,*varargs):\n",
    "    print(f\"name: {name}\")\n",
    "    for item in varargs:\n",
    "        print(item)\n",
    "\n",
    "student(\"Preetam\",(age,20))        \n",
    "    "
   ]
  },
  {
   "cell_type": "code",
   "execution_count": 13,
   "id": "93ad8b2e",
   "metadata": {},
   "outputs": [
    {
     "name": "stdout",
     "output_type": "stream",
     "text": [
      "name: Preetam\n",
      "('age', 20)\n"
     ]
    }
   ],
   "source": [
    "def student(name,*varargs):\n",
    "    print(f\"name: {name}\")\n",
    "    for item in varargs:\n",
    "        print(item)\n",
    "\n",
    "student(\"Preetam\",(\"age\",20))   "
   ]
  },
  {
   "cell_type": "code",
   "execution_count": 14,
   "id": "1d9994bd",
   "metadata": {},
   "outputs": [
    {
     "ename": "SyntaxError",
     "evalue": "invalid syntax (<ipython-input-14-e7c8852b0b58>, line 6)",
     "output_type": "error",
     "traceback": [
      "\u001b[1;36m  File \u001b[1;32m\"<ipython-input-14-e7c8852b0b58>\"\u001b[1;36m, line \u001b[1;32m6\u001b[0m\n\u001b[1;33m    student(\"Preetam\",\"age\":20)\u001b[0m\n\u001b[1;37m                           ^\u001b[0m\n\u001b[1;31mSyntaxError\u001b[0m\u001b[1;31m:\u001b[0m invalid syntax\n"
     ]
    }
   ],
   "source": [
    "def student(name,*varargs):\n",
    "    print(f\"name: {name}\")\n",
    "    for item in varargs:\n",
    "        print(item)\n",
    "\n",
    "student(\"Preetam\",\"age\":20) "
   ]
  },
  {
   "cell_type": "code",
   "execution_count": 15,
   "id": "0f70c1a7",
   "metadata": {},
   "outputs": [
    {
     "name": "stdout",
     "output_type": "stream",
     "text": [
      "name: Preetam\n",
      "age=20\n"
     ]
    }
   ],
   "source": [
    "def student(name,*varargs):\n",
    "    print(f\"name: {name}\")\n",
    "    for item in varargs:\n",
    "        print(item)\n",
    "\n",
    "student(\"Preetam\",\"age=20\")"
   ]
  },
  {
   "cell_type": "code",
   "execution_count": 16,
   "id": "b7262061",
   "metadata": {},
   "outputs": [
    {
     "name": "stdout",
     "output_type": "stream",
     "text": [
      "name: Preetam\n",
      "20\n"
     ]
    }
   ],
   "source": [
    "def student(name,*varargs):\n",
    "    print(f\"name: {name}\")\n",
    "    for item in varargs:\n",
    "        print(item)\n",
    "\n",
    "student(\"Preetam\",20)"
   ]
  },
  {
   "cell_type": "code",
   "execution_count": 18,
   "id": "c988bb87",
   "metadata": {},
   "outputs": [
    {
     "name": "stdout",
     "output_type": "stream",
     "text": [
      "name: Preetam\n",
      "20\n",
      "Engineer\n",
      "\n",
      "name: Saha\n",
      "Adress: Garia\n",
      "DS\n"
     ]
    }
   ],
   "source": [
    "def student(name,*varargs):\n",
    "    print(f\"name: {name}\")\n",
    "    for item in varargs:\n",
    "        print(item)\n",
    "\n",
    "student(\"Preetam\",20,\"Engineer\")\n",
    "print()\n",
    "student(\"Saha\",\"Adress: Garia\",\"DS\")"
   ]
  },
  {
   "cell_type": "code",
   "execution_count": 26,
   "id": "e3768208",
   "metadata": {},
   "outputs": [
    {
     "name": "stdout",
     "output_type": "stream",
     "text": [
      "there are 1 fruit in the list\n",
      "banana\n",
      "after appending there are 2 fruits in the list\n",
      "['banana', 'mango']\n"
     ]
    }
   ],
   "source": [
    "#Example of parametrs by refrence:\n",
    "\n",
    "def displayFruits(fruits):\n",
    "    print(f\"there are {len(fruits)} fruit in the list\")\n",
    "    for item in fruits:\n",
    "        print(item)\n",
    "    fruits.append(\"mango\")\n",
    "    print(f\"after appending there are {len(fruits)} fruits in the list\")\n",
    "fruits=[\"banana\"]\n",
    "displayFruits(fruits)\n",
    "\n",
    "print(fruits)"
   ]
  },
  {
   "cell_type": "code",
   "execution_count": 30,
   "id": "f640bb84",
   "metadata": {},
   "outputs": [
    {
     "data": {
      "text/plain": [
       "88.0"
      ]
     },
     "execution_count": 30,
     "metadata": {},
     "output_type": "execute_result"
    }
   ],
   "source": [
    "student={\n",
    "    \"s1\":{\n",
    "        \"name\":\"Preetam\",\n",
    "        \"major\":\"DS\",\n",
    "        \"marks\":86\n",
    "    },\n",
    "    \"S2\":{\n",
    "        \"name\":\"Saha\",\n",
    "        \"major\":\"ML\",\n",
    "        \"marks\":90\n",
    "    }\n",
    "}\n",
    "\n",
    "\n",
    "def avgGrade(student):\n",
    "    sum=0.0\n",
    "    for key in student:\n",
    "        sum = sum + student[key][\"marks\"]\n",
    "        avg = sum/len(student)\n",
    "    return avg\n",
    "avgGrade(student)"
   ]
  },
  {
   "cell_type": "code",
   "execution_count": 32,
   "id": "c0885f5d",
   "metadata": {},
   "outputs": [
    {
     "name": "stdout",
     "output_type": "stream",
     "text": [
      "the avg marks in the class is : 88.0\n"
     ]
    }
   ],
   "source": [
    "student={\n",
    "    \"s1\":{\n",
    "        \"name\":\"Preetam\",\n",
    "        \"major\":\"DS\",\n",
    "        \"marks\":86\n",
    "    },\n",
    "    \"S2\":{\n",
    "        \"name\":\"Saha\",\n",
    "        \"major\":\"ML\",\n",
    "        \"marks\":90\n",
    "    }\n",
    "}\n",
    "\n",
    "\n",
    "def avgGrade(student):\n",
    "    sum=0.0\n",
    "    for key in student:\n",
    "        sum = sum + student[key][\"marks\"]\n",
    "        avg = sum/len(student)\n",
    "    print(f\"the avg marks in the class is : {avg}\")\n",
    "avgGrade(student)"
   ]
  },
  {
   "cell_type": "code",
   "execution_count": 33,
   "id": "bb22c0ca",
   "metadata": {},
   "outputs": [
    {
     "name": "stdout",
     "output_type": "stream",
     "text": [
      "88.0\n"
     ]
    }
   ],
   "source": [
    "student={\n",
    "    \"s1\":{\n",
    "        \"name\":\"Preetam\",\n",
    "        \"major\":\"DS\",\n",
    "        \"marks\":86\n",
    "    },\n",
    "    \"S2\":{\n",
    "        \"name\":\"Saha\",\n",
    "        \"major\":\"ML\",\n",
    "        \"marks\":90\n",
    "    }\n",
    "}\n",
    "\n",
    "\n",
    "def avgGrade(student):\n",
    "    sum=0.0\n",
    "    for key in student:\n",
    "        sum = sum + student[key][\"marks\"]\n",
    "        avg = sum/len(student)\n",
    "    return avg\n",
    "s=avgGrade(student)\n",
    "print(s)"
   ]
  },
  {
   "cell_type": "code",
   "execution_count": 41,
   "id": "e8d81877",
   "metadata": {},
   "outputs": [
    {
     "name": "stdout",
     "output_type": "stream",
     "text": [
      "the avg marks in the class is : 88.000\n"
     ]
    }
   ],
   "source": [
    "student={\n",
    "    \"s1\":{\n",
    "        \"name\":\"Preetam\",\n",
    "        \"major\":\"DS\",\n",
    "        \"marks\":86\n",
    "    },\n",
    "    \"S2\":{\n",
    "        \"name\":\"Saha\",\n",
    "        \"major\":\"ML\",\n",
    "        \"marks\":90\n",
    "    }\n",
    "}\n",
    "\n",
    "\n",
    "def avgGrade(student):\n",
    "    sum=0.0\n",
    "    for key in student:\n",
    "        sum = sum + student[key][\"marks\"]\n",
    "        avg = sum/len(student)\n",
    "    return avg\n",
    "s=avgGrade(student)\n",
    "print(f\"the avg marks in the class is : {s:.3f}\")"
   ]
  },
  {
   "cell_type": "markdown",
   "id": "9db5405b",
   "metadata": {},
   "source": [
    "# read-write file"
   ]
  },
  {
   "cell_type": "code",
   "execution_count": 44,
   "id": "b8b0f195",
   "metadata": {},
   "outputs": [
    {
     "name": "stdout",
     "output_type": "stream",
     "text": [
      "Python supports more than one programming paradigms\n",
      "including object-oriented programming and structured\n",
      "programming\n",
      "Python is an interpreted language and does\n",
      "not require an explicit complination step.\n"
     ]
    }
   ],
   "source": [
    "#reading an text file\n",
    "\n",
    "y = open(\"file.txt\",\"r\")\n",
    "x=y.read()\n",
    "print(x)\n",
    "y.close()"
   ]
  },
  {
   "cell_type": "code",
   "execution_count": 46,
   "id": "a92be12e",
   "metadata": {},
   "outputs": [
    {
     "name": "stdout",
     "output_type": "stream",
     "text": [
      "Python supports more than one programming paradigms\n",
      "\n"
     ]
    }
   ],
   "source": [
    "y = open(\"file.txt\",\"r\")\n",
    "x= y.readline()\n",
    "print(x)\n",
    "y.close()"
   ]
  },
  {
   "cell_type": "code",
   "execution_count": 48,
   "id": "12782bf8",
   "metadata": {},
   "outputs": [
    {
     "name": "stdout",
     "output_type": "stream",
     "text": [
      "Py\n"
     ]
    }
   ],
   "source": [
    "y = open(\"file.txt\",\"r\")\n",
    "x= y.readline(2)\n",
    "print(x)\n",
    "y.close()"
   ]
  },
  {
   "cell_type": "code",
   "execution_count": 51,
   "id": "f66501f8",
   "metadata": {},
   "outputs": [
    {
     "name": "stdout",
     "output_type": "stream",
     "text": [
      "Python supports more than one programming paradigms\n",
      "inc\n"
     ]
    }
   ],
   "source": [
    "y = open(\"file.txt\",\"r\")\n",
    "x=y.read(55)\n",
    "print(x)\n",
    "y.close()"
   ]
  },
  {
   "cell_type": "code",
   "execution_count": 53,
   "id": "871ce92e",
   "metadata": {},
   "outputs": [
    {
     "name": "stdout",
     "output_type": "stream",
     "text": [
      "Python supports more than one programming paradigms\n",
      "\n"
     ]
    }
   ],
   "source": [
    "#readline only reads 1 line, even if the number of character exceeds the actual no of \n",
    "#characters present in the line,never goes to the next line\n",
    "\n",
    "y = open(\"file.txt\",\"r\")\n",
    "x= y.readline(60)\n",
    "print(x)\n",
    "y.close()"
   ]
  },
  {
   "cell_type": "code",
   "execution_count": 60,
   "id": "b2008a63",
   "metadata": {},
   "outputs": [
    {
     "name": "stdout",
     "output_type": "stream",
     "text": [
      "Python supports more than one programming paradigms\n",
      "\n"
     ]
    }
   ],
   "source": [
    "y = open(\"file.txt\",\"r\")\n",
    "x= y.readline()\n",
    "print(x)"
   ]
  },
  {
   "cell_type": "code",
   "execution_count": 61,
   "id": "917d5ab5",
   "metadata": {},
   "outputs": [
    {
     "name": "stdout",
     "output_type": "stream",
     "text": [
      "including object-oriented programming and structured\n",
      "\n"
     ]
    }
   ],
   "source": [
    "#without opening the file means, wrapper / pointer starts from the previous point\n",
    "z= y.readline()\n",
    "print(z)\n",
    "y.close()"
   ]
  },
  {
   "cell_type": "code",
   "execution_count": 62,
   "id": "725db956",
   "metadata": {},
   "outputs": [
    {
     "name": "stdout",
     "output_type": "stream",
     "text": [
      "['Python supports more than one programming paradigms\\n', 'including object-oriented programming and structured\\n', 'programming\\n', 'Python is an interpreted language and does\\n', 'not require an explicit complination step.']\n"
     ]
    }
   ],
   "source": [
    "#multiple lines\n",
    "y = open(\"file.txt\",\"r\")\n",
    "x=y.readlines()\n",
    "print(x)\n",
    "y.close()"
   ]
  },
  {
   "cell_type": "code",
   "execution_count": 65,
   "id": "f562f874",
   "metadata": {},
   "outputs": [
    {
     "name": "stdout",
     "output_type": "stream",
     "text": [
      "Python supports more than one programming paradigms\n",
      "including object-oriented programming and structured\n",
      "programming\n",
      "Python is an interpreted language and does\n",
      "not require an explicit complination step."
     ]
    }
   ],
   "source": [
    "y = open(\"file.txt\",\"r\")\n",
    "x=y.readlines()\n",
    "for line in x:\n",
    "    print(line,end=\"\")\n",
    "y.close()"
   ]
  },
  {
   "cell_type": "code",
   "execution_count": 66,
   "id": "65258e35",
   "metadata": {},
   "outputs": [
    {
     "name": "stdout",
     "output_type": "stream",
     "text": [
      "ports more than\n"
     ]
    }
   ],
   "source": [
    "#example of seeking a position from where the next line will be read\n",
    "y= open(\"file.txt\",\"r\")\n",
    "x=y.seek(10)\n",
    "z=y.read(15)\n",
    "print(z)\n",
    "y.close()"
   ]
  },
  {
   "cell_type": "code",
   "execution_count": 67,
   "id": "c3d2c814",
   "metadata": {},
   "outputs": [
    {
     "name": "stdout",
     "output_type": "stream",
     "text": [
      "24\n"
     ]
    }
   ],
   "source": [
    "#writing the file\n",
    "y = open(\"file.txt\",\"w\")\n",
    "x=y.write(\"Practice before mid term\")\n",
    "print(x)"
   ]
  },
  {
   "cell_type": "code",
   "execution_count": 71,
   "id": "48d1eece",
   "metadata": {},
   "outputs": [
    {
     "name": "stdout",
     "output_type": "stream",
     "text": [
      "Practice before mid term\n"
     ]
    }
   ],
   "source": [
    "y= open(\"file.txt\",\"r\")\n",
    "x= y.read()\n",
    "print(x)\n",
    "y.close()"
   ]
  },
  {
   "cell_type": "code",
   "execution_count": 70,
   "id": "317ff60d",
   "metadata": {},
   "outputs": [
    {
     "name": "stdout",
     "output_type": "stream",
     "text": [
      "24\n"
     ]
    }
   ],
   "source": [
    "y = open(\"file.txt\",\"w\")\n",
    "x=y.write(\"Practice before mid term\")\n",
    "print(x)\n",
    "y.close()"
   ]
  },
  {
   "cell_type": "code",
   "execution_count": 72,
   "id": "7841f2f9",
   "metadata": {},
   "outputs": [
    {
     "name": "stdout",
     "output_type": "stream",
     "text": [
      "Practice before mid term\n"
     ]
    }
   ],
   "source": [
    "y= open(\"file.txt\",\"r\")\n",
    "x= y.read()\n",
    "print(x)\n",
    "y.close()"
   ]
  },
  {
   "cell_type": "code",
   "execution_count": 75,
   "id": "50c41d3d",
   "metadata": {},
   "outputs": [
    {
     "name": "stdout",
     "output_type": "stream",
     "text": [
      "None\n"
     ]
    }
   ],
   "source": [
    "content = [\"Python supports more than one programming paradigms \\n\",\n",
    "\"including object-oriented programming and structured \\n\",\n",
    "\"programming \\n\",\n",
    "\"Python is an interpreted language and does \\n\",\n",
    "\"not require an explicit complination step.\"]\n",
    "\n",
    "y = open(\"file.txt\",\"w\")\n",
    "x=y.writelines(content)\n",
    "print(x)\n",
    "y.close()"
   ]
  },
  {
   "cell_type": "code",
   "execution_count": 79,
   "id": "deb97a9c",
   "metadata": {},
   "outputs": [
    {
     "name": "stdout",
     "output_type": "stream",
     "text": [
      "Python supports more than one programming paradigms \n",
      "including object-oriented programming and structured \n",
      "programming \n",
      "Python is an interpreted language and does \n",
      "not require an explicit complination step.Practice for mid term\n"
     ]
    }
   ],
   "source": [
    "y= open(\"file.txt\",\"r\")\n",
    "x= y.read()\n",
    "print(x)\n",
    "y.close()"
   ]
  },
  {
   "cell_type": "code",
   "execution_count": 87,
   "id": "546beaad",
   "metadata": {},
   "outputs": [
    {
     "name": "stdout",
     "output_type": "stream",
     "text": [
      "22\n"
     ]
    }
   ],
   "source": [
    "#append mode\n",
    "y = open(\"file.txt\",\"a\")\n",
    "x= y.write(\" Practice for mid term\")\n",
    "print(x)\n",
    "y.close()"
   ]
  },
  {
   "cell_type": "code",
   "execution_count": 88,
   "id": "1e953e0a",
   "metadata": {},
   "outputs": [
    {
     "name": "stdout",
     "output_type": "stream",
     "text": [
      "Python supports more than one programming paradigms \n",
      "including object-oriented programming and structured \n",
      "programming \n",
      "Python is an interpreted language and does \n",
      "not require an explicit complination step.Practice for mid term\n",
      " Practice for mid termPractice for mid term \n",
      "\n",
      "Practice for mid term Practice for mid term\n"
     ]
    }
   ],
   "source": [
    "y= open(\"file.txt\",\"r\")\n",
    "x= y.read()\n",
    "print(x)\n",
    "y.close()"
   ]
  },
  {
   "cell_type": "code",
   "execution_count": 91,
   "id": "e36a27fc",
   "metadata": {},
   "outputs": [
    {
     "data": {
      "text/plain": [
       "120"
      ]
     },
     "execution_count": 91,
     "metadata": {},
     "output_type": "execute_result"
    }
   ],
   "source": [
    "#factorial \n",
    "\n",
    "def fac(n):\n",
    "    if n ==0:\n",
    "        return 1\n",
    "    elif n==1:\n",
    "        return 1\n",
    "    else:\n",
    "        return n*fac(n-1)\n",
    "\n",
    "fac(5)"
   ]
  },
  {
   "cell_type": "code",
   "execution_count": 94,
   "id": "10351a4d",
   "metadata": {},
   "outputs": [
    {
     "data": {
      "text/plain": [
       "8"
      ]
     },
     "execution_count": 94,
     "metadata": {},
     "output_type": "execute_result"
    }
   ],
   "source": [
    "#fibonacci\n",
    "def fib(n):\n",
    "    if n==0:\n",
    "        return 0\n",
    "    elif n==1:\n",
    "        return 1\n",
    "    else:\n",
    "        return fib(n-1) + fib(n-2)\n",
    "\n",
    "fib(6)\n",
    "    "
   ]
  },
  {
   "cell_type": "code",
   "execution_count": 98,
   "id": "51238a06",
   "metadata": {},
   "outputs": [
    {
     "name": "stdout",
     "output_type": "stream",
     "text": [
      "         factorial 2\n",
      "                 factorial 4\n"
     ]
    }
   ],
   "source": [
    "def fact_test1(n):\n",
    "    space = \" \"*(4*n)\n",
    "    print(f\"{space} factorial {n}\")\n",
    "fact_test1(2)\n",
    "fact_test1(4)"
   ]
  },
  {
   "cell_type": "code",
   "execution_count": 106,
   "id": "644e5806",
   "metadata": {},
   "outputs": [
    {
     "name": "stdout",
     "output_type": "stream",
     "text": [
      "             factorial 3\n",
      "         factorial 2\n",
      "     factorial 1\n",
      " factorial 0\n",
      " returning 1\n",
      "     returning 1\n",
      "         returning 2\n",
      "             returning 6\n"
     ]
    },
    {
     "data": {
      "text/plain": [
       "6"
      ]
     },
     "execution_count": 106,
     "metadata": {},
     "output_type": "execute_result"
    }
   ],
   "source": [
    "def fact(n):\n",
    "    space = \" \" * (4*n)\n",
    "    print(f\"{space} factorial {n}\")\n",
    "    if n==0:\n",
    "        print(f\"{space} returning 1\")\n",
    "        return 1\n",
    "    else:\n",
    "        recurse = fact(n-1)\n",
    "        result = n * recurse\n",
    "        print(f\"{space} returning {result}\")\n",
    "        return result\n",
    "\n",
    "fact(3)"
   ]
  },
  {
   "cell_type": "code",
   "execution_count": 108,
   "id": "af33670c",
   "metadata": {},
   "outputs": [
    {
     "data": {
      "text/plain": [
       "True"
      ]
     },
     "execution_count": 108,
     "metadata": {},
     "output_type": "execute_result"
    }
   ],
   "source": [
    "#check palindrome\n",
    "def is_palindrome(str):\n",
    "    i = 0\n",
    "    j = len(str)-1\n",
    "    while i<j:\n",
    "        if str[i]!=str[j]:\n",
    "            return False\n",
    "        else:\n",
    "            i += 1\n",
    "            j -= 1\n",
    "    return True\n",
    "\n",
    "is_palindrome(\"ABBA\")                "
   ]
  },
  {
   "cell_type": "code",
   "execution_count": 109,
   "id": "fc06910d",
   "metadata": {},
   "outputs": [
    {
     "data": {
      "text/plain": [
       "True"
      ]
     },
     "execution_count": 109,
     "metadata": {},
     "output_type": "execute_result"
    }
   ],
   "source": [
    "is_palindrome(\"AByBA\")   "
   ]
  },
  {
   "cell_type": "code",
   "execution_count": 112,
   "id": "045ce187",
   "metadata": {},
   "outputs": [
    {
     "data": {
      "text/plain": [
       "True"
      ]
     },
     "execution_count": 112,
     "metadata": {},
     "output_type": "execute_result"
    }
   ],
   "source": [
    "def is_palindrome1(str):\n",
    "    for i in range(len(str)//2):\n",
    "        if str[i] == str[len(str)-1-i]:\n",
    "            return True\n",
    "        else:\n",
    "            return False\n",
    "is_palindrome1(\"ABBA\")"
   ]
  },
  {
   "cell_type": "code",
   "execution_count": 113,
   "id": "413e2dad",
   "metadata": {},
   "outputs": [
    {
     "data": {
      "text/plain": [
       "True"
      ]
     },
     "execution_count": 113,
     "metadata": {},
     "output_type": "execute_result"
    }
   ],
   "source": [
    "is_palindrome1(\"AByBA\")"
   ]
  },
  {
   "cell_type": "code",
   "execution_count": 110,
   "id": "0fb6ccf6",
   "metadata": {},
   "outputs": [
    {
     "data": {
      "text/plain": [
       "True"
      ]
     },
     "execution_count": 110,
     "metadata": {},
     "output_type": "execute_result"
    }
   ],
   "source": [
    "def is_palindrome2(str):\n",
    "    if str[:]==str[::-1]:\n",
    "        return True\n",
    "    else:\n",
    "        return False\n",
    "is_palindrome2(\"ABBA\")"
   ]
  },
  {
   "cell_type": "code",
   "execution_count": 111,
   "id": "ffc093fa",
   "metadata": {},
   "outputs": [
    {
     "data": {
      "text/plain": [
       "True"
      ]
     },
     "execution_count": 111,
     "metadata": {},
     "output_type": "execute_result"
    }
   ],
   "source": [
    "is_palindrome2(\"AByBA\")"
   ]
  },
  {
   "cell_type": "code",
   "execution_count": 115,
   "id": "63d8ecb4",
   "metadata": {},
   "outputs": [
    {
     "name": "stdout",
     "output_type": "stream",
     "text": [
      "[256, 289, 324, 361, 400]\n"
     ]
    }
   ],
   "source": [
    "#Define a function which can generate a list where the values are square of numbers between 1 and 20 (both included). \n",
    "#Then the function needs to print the last 5 elements in the list.\n",
    "\n",
    "def printLastFive(n1,n2):\n",
    "    lst = []\n",
    "    for i in range(n1,n2+1):\n",
    "        lst.append(i**2)\n",
    "    print(lst[-5:])\n",
    "printLastFive(1,20)\n"
   ]
  },
  {
   "cell_type": "code",
   "execution_count": 116,
   "id": "803ea0d2",
   "metadata": {},
   "outputs": [
    {
     "name": "stdout",
     "output_type": "stream",
     "text": [
      "[1, 2, 3, 4, 5]\n",
      "[6, 7, 8, 9, 10]\n"
     ]
    }
   ],
   "source": [
    "#With a given tuple (1,2,3,4,5,6,7,8,9,10), write a program to print the first half values in one line \n",
    "#and the last half values in one line.\n",
    "\n",
    "t=(1,2,3,4,5,6,7,8,9,10)\n",
    "def twoLines(lst):\n",
    "    lst = list(t)\n",
    "    print(lst[:5])\n",
    "    print(lst[-5:])\n",
    "twoLines(t)"
   ]
  },
  {
   "cell_type": "code",
   "execution_count": 119,
   "id": "e546076c",
   "metadata": {},
   "outputs": [
    {
     "name": "stdout",
     "output_type": "stream",
     "text": [
      "Enter a num: 6\n"
     ]
    },
    {
     "data": {
      "text/plain": [
       "601"
      ]
     },
     "execution_count": 119,
     "metadata": {},
     "output_type": "execute_result"
    }
   ],
   "source": [
    "#Write a program to compute:\n",
    "#f(n)=f(n-1)+100 when n>0 and f(0)=1\n",
    "#with a given n input by console (n>0).\n",
    "\n",
    "def func(n):\n",
    "    if n==0:\n",
    "        return 1\n",
    "    else:\n",
    "        return func(n-1) + 100\n",
    "\n",
    "n = int(input(\"Enter a num: \"))\n",
    "func(n)\n",
    "\n"
   ]
  },
  {
   "cell_type": "code",
   "execution_count": 126,
   "id": "cc16a20a",
   "metadata": {},
   "outputs": [
    {
     "name": "stdout",
     "output_type": "stream",
     "text": [
      "Enter a num: 5\n"
     ]
    },
    {
     "data": {
      "text/plain": [
       "3.5500000000000003"
      ]
     },
     "execution_count": 126,
     "metadata": {},
     "output_type": "execute_result"
    }
   ],
   "source": [
    "#Write a program to compute 1/2+2/3+3/4+...+n/n+1 with a given n input by console (n>0).\n",
    "\n",
    "def sumFunc(n):\n",
    "    sum = 0.0\n",
    "    for i in range(1,n+1):\n",
    "        sum = sum + float(i/(i+1))\n",
    "    return sum\n",
    "n = int(input(\"Enter a num: \"))\n",
    "sumFunc(n)"
   ]
  },
  {
   "cell_type": "code",
   "execution_count": 122,
   "id": "465c51f2",
   "metadata": {},
   "outputs": [
    {
     "data": {
      "text/plain": [
       "3.5500000000000003"
      ]
     },
     "execution_count": 122,
     "metadata": {},
     "output_type": "execute_result"
    }
   ],
   "source": [
    "1/2+2/3+3/4+4/5+5/6"
   ]
  },
  {
   "cell_type": "code",
   "execution_count": 133,
   "id": "0819f3ea",
   "metadata": {},
   "outputs": [
    {
     "name": "stdout",
     "output_type": "stream",
     "text": [
      "I Play Hockey\n",
      "I Play Football\n",
      "I Love Hockey\n",
      "I Love Football\n",
      "You Play Hockey\n",
      "You Play Football\n",
      "You Love Hockey\n",
      "You Love Football\n"
     ]
    }
   ],
   "source": [
    "#Please write a program to generate all sentences where subject is in [\"I\", \"You\"] and verb is in [\"Play\", \"Love\"] and \n",
    "#the object is in [\"Hockey\",\"Football\"].\n",
    "\n",
    "subjects = [\"I\", \"You\"]\n",
    "verbs = [\"Play\", \"Love\"]\n",
    "objects = [\"Hockey\",\"Football\"]\n",
    "\n",
    "for i in range(len(subjects)):\n",
    "    for j in range(len(verbs)):\n",
    "        for k in range(len(objects)):\n",
    "            print(f\"{subjects[i]} {verbs[j]} {objects[k]}\")"
   ]
  },
  {
   "cell_type": "code",
   "execution_count": 139,
   "id": "1d216476",
   "metadata": {},
   "outputs": [
    {
     "name": "stdout",
     "output_type": "stream",
     "text": [
      "24\n",
      "70\n",
      "120\n"
     ]
    }
   ],
   "source": [
    "#By using list comprehension, please write a program to print the list after removing \n",
    "#the 0th, 2nd, 4th,6th numbers in [12,24,35,70,88,120,155].\n",
    "\n",
    "lst = [12,24,35,70,88,120,155]\n",
    "for index,i in enumerate(lst):\n",
    "    if index%2 != 0:\n",
    "        print(i)"
   ]
  },
  {
   "cell_type": "code",
   "execution_count": 152,
   "id": "0dd924c0",
   "metadata": {},
   "outputs": [
    {
     "name": "stdout",
     "output_type": "stream",
     "text": [
      "heads: 45\n",
      "legs: 74\n",
      "rabbit: -8,chicken: 53\n"
     ]
    }
   ],
   "source": [
    "#Write a program to solve a classic ancient Chinese puzzle: We count 35 heads and 94 legs among the chickens and \n",
    "#rabbits in a farm. \n",
    "#How many rabbits and how many chickens do we have?\n",
    "\n",
    "def solve(heads,legs):\n",
    "    if (heads>=legs):\n",
    "        print(\"Error in typing\")\n",
    "    elif (legs%2!=0):\n",
    "        print(\"Error in typing\")\n",
    "    else:\n",
    "        rabbit = (legs-2*heads)/2\n",
    "        chicken = heads - rabbit \n",
    "        print(f\"rabbit: {int(rabbit)},chicken: {int(chicken)}\")\n",
    "heads = int(input(\"heads: \"))\n",
    "legs = int(input(\"legs: \"))\n",
    "\n",
    "solve(heads,legs)"
   ]
  },
  {
   "cell_type": "code",
   "execution_count": 143,
   "id": "588d75bf",
   "metadata": {},
   "outputs": [
    {
     "name": "stdout",
     "output_type": "stream",
     "text": [
      "(1, 2, 3)\n",
      "(1, 3, 2)\n",
      "(2, 1, 3)\n",
      "(2, 3, 1)\n",
      "(3, 1, 2)\n",
      "(3, 2, 1)\n"
     ]
    }
   ],
   "source": [
    "#Please write a program which prints all permutations of [1,2,3]\n",
    "\n",
    "from itertools import permutations\n",
    "x = permutations([1,2,3])\n",
    "for i in list(x):\n",
    "    print(i)"
   ]
  },
  {
   "cell_type": "code",
   "execution_count": 145,
   "id": "d2299095",
   "metadata": {},
   "outputs": [
    {
     "name": "stdout",
     "output_type": "stream",
     "text": [
      "(1, 2)\n",
      "(1, 3)\n",
      "(2, 3)\n"
     ]
    }
   ],
   "source": [
    "#Please write a program which prints all combinations of [1,2,3]\n",
    "\n",
    "from itertools import combinations\n",
    "x = combinations([1,2,3],2)\n",
    "for i in list(x):\n",
    "    print(i)"
   ]
  },
  {
   "cell_type": "code",
   "execution_count": 3,
   "id": "7104bed9",
   "metadata": {},
   "outputs": [
    {
     "name": "stdout",
     "output_type": "stream",
     "text": [
      "heads: 45\n",
      "legs: 80\n",
      "Error in typing\n"
     ]
    }
   ],
   "source": [
    "#Write a program to solve a classic ancient Chinese puzzle: We count 35 heads and 94 legs among the chickens and \n",
    "#rabbits in a farm. \n",
    "#How many rabbits and how many chickens do we have?\n",
    "\n",
    "def solve(heads,legs):\n",
    "    error = \"Error in typing\"\n",
    "    chicken_count = 0\n",
    "    rabbit_count = 0\n",
    "    ans = False\n",
    "    for x in range(heads+1):\n",
    "        y = heads - x\n",
    "        if 2*x + 4*y == legs:\n",
    "            chicken_count = x\n",
    "            rabbit_count = y\n",
    "            ans = True\n",
    "            break\n",
    "    if ans == True:\n",
    "        print(f\"rabbit: {int(rabbit_count)},chicken: {int(chicken_count)}\")\n",
    "    else:\n",
    "        print(error)\n",
    "    \n",
    "        \n",
    "heads = int(input(\"heads: \"))\n",
    "legs = int(input(\"legs: \"))\n",
    "\n",
    "solve(heads,legs)"
   ]
  },
  {
   "cell_type": "code",
   "execution_count": 172,
   "id": "e2afe269",
   "metadata": {},
   "outputs": [
    {
     "name": "stdout",
     "output_type": "stream",
     "text": [
      "3\n"
     ]
    }
   ],
   "source": [
    "#Problem Statement\n",
    "#Given a list of integer values. Write a python program to check whether it contains same \n",
    "#number in adjacent position. Display the count of \n",
    "#such adjacent occurrences\n",
    "\n",
    "\n",
    "def get_count(num_list):\n",
    "    count=0\n",
    "\n",
    "    for i in range(len(num_list)-1):\n",
    "        if(num_list[i]==num_list[i+1]):\n",
    "            count+=1\n",
    "\n",
    "    return count\n",
    "\n",
    "#provide different values in list and test your program\n",
    "num_list=[1,1,5,100,-20,-20,6,0,0]\n",
    "print(get_count(num_list))"
   ]
  },
  {
   "cell_type": "markdown",
   "id": "627cb89b",
   "metadata": {},
   "source": [
    "# TimeSeries"
   ]
  },
  {
   "cell_type": "code",
   "execution_count": 2,
   "id": "d3e4e581",
   "metadata": {},
   "outputs": [
    {
     "name": "stdout",
     "output_type": "stream",
     "text": [
      "2022-03-13 20:06:48.324271\n"
     ]
    }
   ],
   "source": [
    "from datetime import datetime\n",
    "now = datetime.now()\n",
    "print(now)"
   ]
  },
  {
   "cell_type": "code",
   "execution_count": 4,
   "id": "cec02314",
   "metadata": {},
   "outputs": [
    {
     "data": {
      "text/plain": [
       "13"
      ]
     },
     "execution_count": 4,
     "metadata": {},
     "output_type": "execute_result"
    }
   ],
   "source": [
    "now.day"
   ]
  },
  {
   "cell_type": "code",
   "execution_count": 5,
   "id": "e4c83b63",
   "metadata": {},
   "outputs": [
    {
     "data": {
      "text/plain": [
       "3"
      ]
     },
     "execution_count": 5,
     "metadata": {},
     "output_type": "execute_result"
    }
   ],
   "source": [
    "now.month"
   ]
  },
  {
   "cell_type": "code",
   "execution_count": 6,
   "id": "aa1f256f",
   "metadata": {},
   "outputs": [
    {
     "data": {
      "text/plain": [
       "2022"
      ]
     },
     "execution_count": 6,
     "metadata": {},
     "output_type": "execute_result"
    }
   ],
   "source": [
    "now.year"
   ]
  },
  {
   "cell_type": "code",
   "execution_count": 7,
   "id": "9a806f1e",
   "metadata": {},
   "outputs": [
    {
     "data": {
      "text/plain": [
       "(13, 3, 2022)"
      ]
     },
     "execution_count": 7,
     "metadata": {},
     "output_type": "execute_result"
    }
   ],
   "source": [
    "now.day,now.month,now.year"
   ]
  },
  {
   "cell_type": "code",
   "execution_count": 8,
   "id": "da5754f0",
   "metadata": {},
   "outputs": [
    {
     "name": "stdout",
     "output_type": "stream",
     "text": [
      "35 days, 0:00:00\n"
     ]
    }
   ],
   "source": [
    "delta = datetime(2022,3,22) - datetime(2022,2,15)\n",
    "print(delta)"
   ]
  },
  {
   "cell_type": "code",
   "execution_count": 9,
   "id": "a8b66f96",
   "metadata": {},
   "outputs": [
    {
     "name": "stdout",
     "output_type": "stream",
     "text": [
      "34 days, 15:45:00\n"
     ]
    }
   ],
   "source": [
    "delta1 = datetime(2022,3,22) - datetime(2022,2,15,8,15)\n",
    "print(delta1)"
   ]
  },
  {
   "cell_type": "code",
   "execution_count": 10,
   "id": "f1501681",
   "metadata": {},
   "outputs": [
    {
     "data": {
      "text/plain": [
       "datetime.timedelta(days=34, seconds=56700)"
      ]
     },
     "execution_count": 10,
     "metadata": {},
     "output_type": "execute_result"
    }
   ],
   "source": [
    "delta1"
   ]
  },
  {
   "cell_type": "code",
   "execution_count": 13,
   "id": "cbf8465e",
   "metadata": {},
   "outputs": [
    {
     "data": {
      "text/plain": [
       "34"
      ]
     },
     "execution_count": 13,
     "metadata": {},
     "output_type": "execute_result"
    }
   ],
   "source": [
    "delta1.days"
   ]
  },
  {
   "cell_type": "code",
   "execution_count": 14,
   "id": "0841e252",
   "metadata": {},
   "outputs": [
    {
     "data": {
      "text/plain": [
       "56700"
      ]
     },
     "execution_count": 14,
     "metadata": {},
     "output_type": "execute_result"
    }
   ],
   "source": [
    "delta1.seconds"
   ]
  },
  {
   "cell_type": "code",
   "execution_count": 16,
   "id": "3216a1a3",
   "metadata": {},
   "outputs": [
    {
     "data": {
      "text/plain": [
       "datetime.datetime(2022, 3, 27, 0, 0)"
      ]
     },
     "execution_count": 16,
     "metadata": {},
     "output_type": "execute_result"
    }
   ],
   "source": [
    "#add or subtract a timedelta \n",
    "\n",
    "from datetime import timedelta\n",
    "start = datetime(2022,3,15)\n",
    "next = start + timedelta(12)\n",
    "next"
   ]
  },
  {
   "cell_type": "code",
   "execution_count": 17,
   "id": "c8102edc",
   "metadata": {},
   "outputs": [
    {
     "data": {
      "text/plain": [
       "datetime.datetime(2022, 4, 8, 0, 0)"
      ]
     },
     "execution_count": 17,
     "metadata": {},
     "output_type": "execute_result"
    }
   ],
   "source": [
    "next1 = start  + 2* timedelta(12)\n",
    "next1"
   ]
  },
  {
   "cell_type": "code",
   "execution_count": 18,
   "id": "f0454a16",
   "metadata": {},
   "outputs": [
    {
     "data": {
      "text/plain": [
       "datetime.datetime(2022, 3, 23, 0, 0)"
      ]
     },
     "execution_count": 18,
     "metadata": {},
     "output_type": "execute_result"
    }
   ],
   "source": [
    "stamp = datetime(2022,3,23)\n",
    "stamp"
   ]
  },
  {
   "cell_type": "code",
   "execution_count": 19,
   "id": "ccaa585e",
   "metadata": {},
   "outputs": [
    {
     "data": {
      "text/plain": [
       "'2022-03-23 00:00:00'"
      ]
     },
     "execution_count": 19,
     "metadata": {},
     "output_type": "execute_result"
    }
   ],
   "source": [
    "str(stamp)"
   ]
  },
  {
   "cell_type": "code",
   "execution_count": 23,
   "id": "0da0a4bd",
   "metadata": {},
   "outputs": [
    {
     "data": {
      "text/plain": [
       "'23-03-2022'"
      ]
     },
     "execution_count": 23,
     "metadata": {},
     "output_type": "execute_result"
    }
   ],
   "source": [
    "stamp.strftime(\"%d-%m-%Y\")"
   ]
  },
  {
   "cell_type": "code",
   "execution_count": 24,
   "id": "719cf61b",
   "metadata": {},
   "outputs": [
    {
     "data": {
      "text/plain": [
       "datetime.datetime(2022, 3, 22, 0, 0)"
      ]
     },
     "execution_count": 24,
     "metadata": {},
     "output_type": "execute_result"
    }
   ],
   "source": [
    "value = \"2022-03-22\"\n",
    "date1=datetime.strptime(value,\"%Y-%m-%d\")\n",
    "date1"
   ]
  },
  {
   "cell_type": "code",
   "execution_count": 26,
   "id": "4be683fb",
   "metadata": {},
   "outputs": [
    {
     "data": {
      "text/plain": [
       "datetime.datetime(2022, 3, 22, 0, 0)"
      ]
     },
     "execution_count": 26,
     "metadata": {},
     "output_type": "execute_result"
    }
   ],
   "source": [
    "from dateutil.parser import parse\n",
    "parse(value)"
   ]
  },
  {
   "cell_type": "code",
   "execution_count": 27,
   "id": "32ea6064",
   "metadata": {},
   "outputs": [
    {
     "data": {
      "text/plain": [
       "datetime.datetime(2022, 1, 15, 23, 45)"
      ]
     },
     "execution_count": 27,
     "metadata": {},
     "output_type": "execute_result"
    }
   ],
   "source": [
    "parse(\"Jan 15,2022 11:45 PM\")"
   ]
  },
  {
   "cell_type": "code",
   "execution_count": 28,
   "id": "0bc78df1",
   "metadata": {},
   "outputs": [
    {
     "data": {
      "text/plain": [
       "datetime.datetime(2022, 12, 6, 0, 0)"
      ]
     },
     "execution_count": 28,
     "metadata": {},
     "output_type": "execute_result"
    }
   ],
   "source": [
    "parse(\"6/12/2022\",dayfirst=True)"
   ]
  },
  {
   "cell_type": "code",
   "execution_count": 29,
   "id": "b1503864",
   "metadata": {},
   "outputs": [
    {
     "data": {
      "text/plain": [
       "datetime.datetime(2022, 6, 12, 0, 0)"
      ]
     },
     "execution_count": 29,
     "metadata": {},
     "output_type": "execute_result"
    }
   ],
   "source": [
    "parse(\"6/12/2022\")"
   ]
  },
  {
   "cell_type": "markdown",
   "id": "80a77b90",
   "metadata": {},
   "source": [
    "# List vs Dict"
   ]
  },
  {
   "cell_type": "code",
   "execution_count": 30,
   "id": "a70900b8",
   "metadata": {},
   "outputs": [
    {
     "name": "stdout",
     "output_type": "stream",
     "text": [
      "2787227515008\n"
     ]
    }
   ],
   "source": [
    "# use a dictionary because lookups are faster.\n",
    "#Use a list if you need to store the order of something.\n",
    "# Is a list mutable?\n",
    "#Yes. Notice in the code below how the value associated with the same identifier in memory has not changed.\n",
    "\n",
    "\n",
    "x = [2,3,4]\n",
    "print(id(x))"
   ]
  },
  {
   "cell_type": "code",
   "execution_count": 31,
   "id": "e17a6f9c",
   "metadata": {},
   "outputs": [
    {
     "data": {
      "text/plain": [
       "[2, 3, 4, 5, 7, 8]"
      ]
     },
     "execution_count": 31,
     "metadata": {},
     "output_type": "execute_result"
    }
   ],
   "source": [
    "#append and extent ,so list is mutable but memory location doesnot change\n",
    "x.append(5)\n",
    "x.extend([7,8])\n",
    "x"
   ]
  },
  {
   "cell_type": "code",
   "execution_count": 32,
   "id": "d9386e74",
   "metadata": {},
   "outputs": [
    {
     "name": "stdout",
     "output_type": "stream",
     "text": [
      "2787227515008\n"
     ]
    }
   ],
   "source": [
    "print(id(x))"
   ]
  },
  {
   "cell_type": "code",
   "execution_count": 33,
   "id": "aa497edb",
   "metadata": {},
   "outputs": [
    {
     "data": {
      "text/plain": [
       "[2, 3, 4, 5, 7, 8, [11, 20]]"
      ]
     },
     "execution_count": 33,
     "metadata": {},
     "output_type": "execute_result"
    }
   ],
   "source": [
    "#append vs extend\n",
    "#appending a list adds that whole list as a single element, rather than appending each of its values.\n",
    "#So extending a list with another list combines their values.\n",
    "\n",
    "x.append([11,20])\n",
    "x"
   ]
  },
  {
   "cell_type": "code",
   "execution_count": 34,
   "id": "0a1ec335",
   "metadata": {},
   "outputs": [
    {
     "data": {
      "text/plain": [
       "[2, 3, 4, 5, 7, 8, [11, 20], 34, 56]"
      ]
     },
     "execution_count": 34,
     "metadata": {},
     "output_type": "execute_result"
    }
   ],
   "source": [
    "x.extend([34,56])\n",
    "x"
   ]
  },
  {
   "cell_type": "code",
   "execution_count": 35,
   "id": "2657ad4e",
   "metadata": {},
   "outputs": [
    {
     "data": {
      "text/plain": [
       "[2, 4, 5, 7, 8, [11, 20], 34, 56]"
      ]
     },
     "execution_count": 35,
     "metadata": {},
     "output_type": "execute_result"
    }
   ],
   "source": [
    "#del removes an item from a list given its index.\n",
    "del x[1]\n",
    "x"
   ]
  },
  {
   "cell_type": "code",
   "execution_count": 41,
   "id": "9e397c27",
   "metadata": {},
   "outputs": [
    {
     "data": {
      "text/plain": [
       "[1, 1, 5, 2, 3, 3]"
      ]
     },
     "execution_count": 41,
     "metadata": {},
     "output_type": "execute_result"
    }
   ],
   "source": [
    "#remove vs pop\n",
    "#.remove() removes the first instance of a matching object.\n",
    "#.pop() removes an object by its index.\n",
    "\n",
    "a = [1,1,2,5,2,3,3]\n",
    "a.remove(2)\n",
    "a"
   ]
  },
  {
   "cell_type": "code",
   "execution_count": 42,
   "id": "eca4bb1f",
   "metadata": {},
   "outputs": [
    {
     "data": {
      "text/plain": [
       "[1, 1, 2, 3, 3]"
      ]
     },
     "execution_count": 42,
     "metadata": {},
     "output_type": "execute_result"
    }
   ],
   "source": [
    "a.pop(2)\n",
    "a"
   ]
  },
  {
   "cell_type": "code",
   "execution_count": 43,
   "id": "1adfbb95",
   "metadata": {},
   "outputs": [
    {
     "data": {
      "text/plain": [
       "[1, 1, 2, 3]"
      ]
     },
     "execution_count": 43,
     "metadata": {},
     "output_type": "execute_result"
    }
   ],
   "source": [
    "#By default, pop removes the last element from a list if an index isn’t specified.\n",
    "a.pop()\n",
    "a"
   ]
  },
  {
   "cell_type": "code",
   "execution_count": 44,
   "id": "d6effc03",
   "metadata": {},
   "outputs": [],
   "source": [
    "#The difference between pop and del is that pop returns the popped element.\n",
    "# del doesnot return any value where pop returns the returned value\n",
    "x = [1,2,3]\n",
    "del x[1]"
   ]
  },
  {
   "cell_type": "code",
   "execution_count": 45,
   "id": "7d3acbb9",
   "metadata": {},
   "outputs": [
    {
     "data": {
      "text/plain": [
       "[1, 3]"
      ]
     },
     "execution_count": 45,
     "metadata": {},
     "output_type": "execute_result"
    }
   ],
   "source": [
    "x"
   ]
  },
  {
   "cell_type": "code",
   "execution_count": 46,
   "id": "e2f70179",
   "metadata": {},
   "outputs": [
    {
     "data": {
      "text/plain": [
       "3"
      ]
     },
     "execution_count": 46,
     "metadata": {},
     "output_type": "execute_result"
    }
   ],
   "source": [
    "x.pop(1)"
   ]
  },
  {
   "cell_type": "code",
   "execution_count": 48,
   "id": "88185183",
   "metadata": {},
   "outputs": [
    {
     "data": {
      "text/plain": [
       "2"
      ]
     },
     "execution_count": 48,
     "metadata": {},
     "output_type": "execute_result"
    }
   ],
   "source": [
    "#For example, you want to find the first “apple” in a list of fruit. Use the .index() method.\n",
    "fruit = ['pear', 'orange', 'apple', 'grapefruit', 'apple', 'pear']\n",
    "fruit.index('apple')"
   ]
  },
  {
   "cell_type": "code",
   "execution_count": 49,
   "id": "441293e4",
   "metadata": {},
   "outputs": [
    {
     "data": {
      "text/plain": [
       "7"
      ]
     },
     "execution_count": 49,
     "metadata": {},
     "output_type": "execute_result"
    }
   ],
   "source": [
    "x = [1,2,3,4,5,6,6,7,7,7,8]\n",
    "x.index(7)"
   ]
  },
  {
   "cell_type": "code",
   "execution_count": 50,
   "id": "3afc3970",
   "metadata": {},
   "outputs": [
    {
     "data": {
      "text/plain": [
       "3"
      ]
     },
     "execution_count": 50,
     "metadata": {},
     "output_type": "execute_result"
    }
   ],
   "source": [
    "#. Count the occurrence of a specific object in a list\n",
    "x = [1,2,3,4,5,6,6,7,7,7,8]\n",
    "x.count(7)"
   ]
  },
  {
   "cell_type": "code",
   "execution_count": 52,
   "id": "769d0651",
   "metadata": {},
   "outputs": [
    {
     "name": "stdout",
     "output_type": "stream",
     "text": [
      "['chuck norris', 'bruce lee', 'sonny chiba']\n",
      "['chuck norris', 'bruce lee']\n"
     ]
    }
   ],
   "source": [
    "#. Why create a shallow copy of a list?\n",
    "#Building off the previous example, modifying round2 will modify round1 if we don’t create a shallow copy\n",
    "\n",
    "round1 = ['chuck norris', 'bruce lee', 'sonny chiba']\n",
    "round2 = round1.copy()\n",
    "round2.remove(\"sonny chiba\")\n",
    "print(round1)\n",
    "print(round2)"
   ]
  },
  {
   "cell_type": "code",
   "execution_count": 64,
   "id": "6ffe205b",
   "metadata": {},
   "outputs": [
    {
     "name": "stdout",
     "output_type": "stream",
     "text": [
      "[8, 2, 3] 2787226961280\n",
      "[8, 2, 3] 2787226961280\n"
     ]
    }
   ],
   "source": [
    "x= [1,2,3]\n",
    "y = x\n",
    "x[0]=8\n",
    "print(x,id(x))\n",
    "print(y,id(y))"
   ]
  },
  {
   "cell_type": "code",
   "execution_count": 67,
   "id": "1016df32",
   "metadata": {},
   "outputs": [
    {
     "name": "stdout",
     "output_type": "stream",
     "text": [
      "[8, 2, 3] 2787226971776\n",
      "[1, 2, 3] 2787226980672\n",
      "140713654364176\n",
      "140713654363952\n"
     ]
    }
   ],
   "source": [
    "#shallow copy --> \n",
    "import copy\n",
    "x= [1,2,3]\n",
    "y = copy.copy(x)\n",
    "x[0]=8\n",
    "print(x,id(x))\n",
    "print(y,id(y))\n",
    "#It seems as if new_groups was a completely independent copy of groups. But let’s take it a step further to see that it’s not.\n",
    "print(id(x[0]))\n",
    "print(id(y[0]))"
   ]
  },
  {
   "cell_type": "code",
   "execution_count": 69,
   "id": "9df56a9b",
   "metadata": {},
   "outputs": [
    {
     "name": "stdout",
     "output_type": "stream",
     "text": [
      "[8, 2, 3] 2787226829440\n",
      "[1, 2, 3] 2787226829824\n",
      "140713654364176\n",
      "140713654363952\n"
     ]
    }
   ],
   "source": [
    "#deep copy\n",
    "import copy\n",
    "x= [1,2,3]\n",
    "y = copy.deepcopy(x)\n",
    "x[0] =8\n",
    "print(x,id(x))\n",
    "print(y,id(y))\n",
    "print(id(x[0]))\n",
    "print(id(y[0]))"
   ]
  },
  {
   "cell_type": "code",
   "execution_count": 71,
   "id": "93044f64",
   "metadata": {},
   "outputs": [
    {
     "data": {
      "text/plain": [
       "2"
      ]
     },
     "execution_count": 71,
     "metadata": {},
     "output_type": "execute_result"
    }
   ],
   "source": [
    "#. Count occurrences of each value in a list\n",
    "\n",
    "l= [1,2,3,4,4,5,67,7,5,3,2,5,6]\n",
    "l.count(4)"
   ]
  },
  {
   "cell_type": "code",
   "execution_count": 73,
   "id": "b3856de7",
   "metadata": {},
   "outputs": [
    {
     "data": {
      "text/plain": [
       "Counter({1: 1, 2: 2, 3: 2, 4: 2, 5: 3, 67: 1, 7: 1, 6: 1})"
      ]
     },
     "execution_count": 73,
     "metadata": {},
     "output_type": "execute_result"
    }
   ],
   "source": [
    "from collections import Counter \n",
    "Counter(l)"
   ]
  },
  {
   "cell_type": "code",
   "execution_count": 74,
   "id": "b117a3b6",
   "metadata": {},
   "outputs": [],
   "source": [
    "# 41. What is the time complexity of insert, find and delete for a list?\n",
    "# Insert is O(n). If an element is inserted at the beginning, all other elements must be shifted right.\n",
    "# Find by index is O(1). But find by value is O(n) because elements need to be iterated over until the value is found.\n",
    "# Delete is O(n). If an element is deleted at the beginning, all other elements must to be shifted left."
   ]
  },
  {
   "cell_type": "code",
   "execution_count": 116,
   "id": "5203d85a",
   "metadata": {},
   "outputs": [
    {
     "name": "stdout",
     "output_type": "stream",
     "text": [
      "Enter a num: 16\n",
      "2 3 5 7 11 13 "
     ]
    }
   ],
   "source": [
    "## You are given an integer N. You need to print the series of all prime numbers till N.\n",
    "\n",
    "inp = int(input(\"Enter a num: \"))\n",
    "if inp < 2:\n",
    "    print(f\"Couldnot found any prime below {inp}\")\n",
    "elif inp ==2:\n",
    "    print(\"2\",end = \" \")\n",
    "else:\n",
    "    print(\"2\",end = \" \")\n",
    "    for i in range(3,inp+1):\n",
    "        check = 0\n",
    "        for j in range(2, int(i/2)+1):\n",
    "            if i%j == 0:\n",
    "                check = 1\n",
    "                break\n",
    "        if check == 0:\n",
    "            print(i,end = \" \")"
   ]
  },
  {
   "cell_type": "code",
   "execution_count": 118,
   "id": "ce57acb4",
   "metadata": {},
   "outputs": [
    {
     "name": "stdout",
     "output_type": "stream",
     "text": [
      "16\n",
      "2 3 5 7 11 13 "
     ]
    }
   ],
   "source": [
    "import math\n",
    "\n",
    "userInput = int(input())\n",
    "if userInput > 2:\n",
    "    print(\"2\",end = ' ')\n",
    "for i in range(3, userInput + 1):\n",
    "    check = 0\n",
    "    for j in range(2, int(math.sqrt(i)+1)):\n",
    "        if i % j == 0:\n",
    "            check = 1\n",
    "            break\n",
    "    if check == 0:\n",
    "        print(i, end = ' ')"
   ]
  },
  {
   "cell_type": "code",
   "execution_count": 120,
   "id": "99fe0ada",
   "metadata": {},
   "outputs": [
    {
     "name": "stdout",
     "output_type": "stream",
     "text": [
      "Enter a num: 16\n",
      "2 3 5 7 11 13 "
     ]
    }
   ],
   "source": [
    "inp = int(input(\"Enter a num: \"))\n",
    "if inp < 2:\n",
    "    print(f\"Couldnot found any prime below {inp}\")\n",
    "elif inp ==2:\n",
    "    print(\"2\",end = \" \")\n",
    "else:\n",
    "    print(\"2\",end = \" \")\n",
    "    for i in range(3,inp+1):\n",
    "        check = 0\n",
    "        for j in range(2, int(i)):\n",
    "            if i%j == 0:\n",
    "                check = 1\n",
    "                break\n",
    "        if check == 0:\n",
    "            print(i,end = \" \")"
   ]
  },
  {
   "cell_type": "code",
   "execution_count": 123,
   "id": "e3d08f8c",
   "metadata": {},
   "outputs": [
    {
     "name": "stdout",
     "output_type": "stream",
     "text": [
      "Enter a num: 5\n",
      "Enter a num: 2\n",
      "Enter a num: 4\n",
      "Enter a num: 6\n",
      "Enter a num: 8\n",
      "Enter a num: 10\n",
      "[2, 4, 6, 8, 10]\n",
      "Product of the elemnts of the array 3840\n"
     ]
    }
   ],
   "source": [
    "## You have been given an array A of size N consisting of positive integers. You need to find and print the product of all\n",
    "# the number in this array\n",
    "\n",
    "inp = int(input(\"Enter a num: \"))\n",
    "lst = []\n",
    "for i in range(inp):\n",
    "    user_input = int(input(\"Enter a num: \"))\n",
    "    lst.append(user_input)\n",
    "print(lst)\n",
    "p = 1\n",
    "for i in lst:\n",
    "    p = p*i\n",
    "print(\"Product of the elemnts of the array\",p) "
   ]
  },
  {
   "cell_type": "code",
   "execution_count": 124,
   "id": "cc702fb9",
   "metadata": {},
   "outputs": [
    {
     "data": {
      "text/plain": [
       "3840"
      ]
     },
     "execution_count": 124,
     "metadata": {},
     "output_type": "execute_result"
    }
   ],
   "source": [
    "2*4*6*8*10"
   ]
  },
  {
   "cell_type": "code",
   "execution_count": 134,
   "id": "a0411500",
   "metadata": {},
   "outputs": [
    {
     "data": {
      "text/plain": [
       "5"
      ]
     },
     "execution_count": 134,
     "metadata": {},
     "output_type": "execute_result"
    }
   ],
   "source": [
    "#Python Program to find largest element in an array\n",
    "\n",
    "def largest(lst):\n",
    "    num=0\n",
    "    maxnum = 0\n",
    "    for i in range(len(lst)):\n",
    "        if lst[i]>num:\n",
    "            maxnum = lst[i]\n",
    "    return maxnum\n",
    "largest([2,3,4,5,5])"
   ]
  },
  {
   "cell_type": "code",
   "execution_count": 133,
   "id": "820132af",
   "metadata": {},
   "outputs": [
    {
     "data": {
      "text/plain": [
       "12"
      ]
     },
     "execution_count": 133,
     "metadata": {},
     "output_type": "execute_result"
    }
   ],
   "source": [
    "lst = [2,3,4,5,4,4,12,2]\n",
    "max(lst)"
   ]
  },
  {
   "cell_type": "code",
   "execution_count": 137,
   "id": "2201b0fd",
   "metadata": {},
   "outputs": [
    {
     "data": {
      "text/plain": [
       "datetime.datetime(2022, 3, 13, 23, 11, 15, 393309)"
      ]
     },
     "execution_count": 137,
     "metadata": {},
     "output_type": "execute_result"
    }
   ],
   "source": [
    "from datetime import datetime\n",
    "now=datetime.now()\n",
    "now"
   ]
  },
  {
   "cell_type": "code",
   "execution_count": 138,
   "id": "42ef81cb",
   "metadata": {},
   "outputs": [
    {
     "data": {
      "text/plain": [
       "13"
      ]
     },
     "execution_count": 138,
     "metadata": {},
     "output_type": "execute_result"
    }
   ],
   "source": [
    "now.day"
   ]
  },
  {
   "cell_type": "code",
   "execution_count": 139,
   "id": "0d14d6de",
   "metadata": {},
   "outputs": [
    {
     "data": {
      "text/plain": [
       "3"
      ]
     },
     "execution_count": 139,
     "metadata": {},
     "output_type": "execute_result"
    }
   ],
   "source": [
    "now.month"
   ]
  },
  {
   "cell_type": "code",
   "execution_count": 140,
   "id": "775ca087",
   "metadata": {},
   "outputs": [
    {
     "data": {
      "text/plain": [
       "2022"
      ]
     },
     "execution_count": 140,
     "metadata": {},
     "output_type": "execute_result"
    }
   ],
   "source": [
    "now.year"
   ]
  },
  {
   "cell_type": "code",
   "execution_count": 141,
   "id": "303c245a",
   "metadata": {},
   "outputs": [
    {
     "data": {
      "text/plain": [
       "15"
      ]
     },
     "execution_count": 141,
     "metadata": {},
     "output_type": "execute_result"
    }
   ],
   "source": [
    "now.second"
   ]
  },
  {
   "cell_type": "code",
   "execution_count": 142,
   "id": "adc4e263",
   "metadata": {},
   "outputs": [
    {
     "data": {
      "text/plain": [
       "'Sunday'"
      ]
     },
     "execution_count": 142,
     "metadata": {},
     "output_type": "execute_result"
    }
   ],
   "source": [
    "now.strftime(\"%A\")"
   ]
  },
  {
   "cell_type": "code",
   "execution_count": 144,
   "id": "ea1282c6",
   "metadata": {},
   "outputs": [
    {
     "data": {
      "text/plain": [
       "'March'"
      ]
     },
     "execution_count": 144,
     "metadata": {},
     "output_type": "execute_result"
    }
   ],
   "source": [
    "now.strftime(\"%B\")"
   ]
  },
  {
   "cell_type": "code",
   "execution_count": 145,
   "id": "b2c183ee",
   "metadata": {},
   "outputs": [
    {
     "data": {
      "text/plain": [
       "'03/13/22'"
      ]
     },
     "execution_count": 145,
     "metadata": {},
     "output_type": "execute_result"
    }
   ],
   "source": [
    "now.strftime(\"%D\")"
   ]
  },
  {
   "cell_type": "code",
   "execution_count": 147,
   "id": "a7819c69",
   "metadata": {},
   "outputs": [
    {
     "data": {
      "text/plain": [
       "'13'"
      ]
     },
     "execution_count": 147,
     "metadata": {},
     "output_type": "execute_result"
    }
   ],
   "source": [
    "now.strftime(\"%d\")"
   ]
  },
  {
   "cell_type": "code",
   "execution_count": 148,
   "id": "8ff9b6a0",
   "metadata": {},
   "outputs": [
    {
     "data": {
      "text/plain": [
       "'03'"
      ]
     },
     "execution_count": 148,
     "metadata": {},
     "output_type": "execute_result"
    }
   ],
   "source": [
    "now.strftime(\"%m\")"
   ]
  },
  {
   "cell_type": "code",
   "execution_count": 160,
   "id": "1bd1a5a8",
   "metadata": {},
   "outputs": [],
   "source": [
    "#Python Program to check if given array is Monotonic\n",
    "\n",
    "def check_monotinic(lst):\n",
    "    lst1 = []\n",
    "    for i in range(len(lst)-1):\n",
    "        s = lst[i] - lst[i+1]\n",
    "        if s>0:\n",
    "            lst1.append(\"Positive\")\n",
    "        elif s==0:\n",
    "            lst1.append(\"Zero\")\n",
    "        else:\n",
    "            lst1.append(\"Negative\")\n",
    "    freq = dict()\n",
    "    for i in [\"Positive\",\"Zero\",\"Negative\"]:\n",
    "        freq[i] = lst1.count(i)\n",
    "    if freq[\"Positive\"] >0 and freq[\"Negative\"] >0:\n",
    "        return False\n",
    "    else:\n",
    "        return True"
   ]
  },
  {
   "cell_type": "code",
   "execution_count": 157,
   "id": "41210912",
   "metadata": {},
   "outputs": [
    {
     "data": {
      "text/plain": [
       "True"
      ]
     },
     "execution_count": 157,
     "metadata": {},
     "output_type": "execute_result"
    }
   ],
   "source": [
    "check_monotinic([2,3,4,5,6])"
   ]
  },
  {
   "cell_type": "code",
   "execution_count": 158,
   "id": "8e0e47b3",
   "metadata": {},
   "outputs": [
    {
     "data": {
      "text/plain": [
       "False"
      ]
     },
     "execution_count": 158,
     "metadata": {},
     "output_type": "execute_result"
    }
   ],
   "source": [
    "check_monotinic([2,3,4,2,6])"
   ]
  },
  {
   "cell_type": "code",
   "execution_count": 161,
   "id": "55cba0a9",
   "metadata": {},
   "outputs": [
    {
     "data": {
      "text/plain": [
       "True"
      ]
     },
     "execution_count": 161,
     "metadata": {},
     "output_type": "execute_result"
    }
   ],
   "source": [
    "check_monotinic([2,3,4,5,5,6])"
   ]
  },
  {
   "cell_type": "code",
   "execution_count": 162,
   "id": "640579c9",
   "metadata": {},
   "outputs": [
    {
     "data": {
      "text/plain": [
       "['p', 'r', 'e', 'e', 't', 'a', 'm']"
      ]
     },
     "execution_count": 162,
     "metadata": {},
     "output_type": "execute_result"
    }
   ],
   "source": [
    "list(\"preetam\")"
   ]
  },
  {
   "cell_type": "code",
   "execution_count": 202,
   "id": "4dd4eda1",
   "metadata": {},
   "outputs": [],
   "source": [
    "def fib(n):\n",
    "    a = 0\n",
    "    b = 1\n",
    "    for i in range(n):\n",
    "        print(a,b,a+b)\n",
    "        a,b = b,a+b"
   ]
  },
  {
   "cell_type": "code",
   "execution_count": 203,
   "id": "97c3c686",
   "metadata": {},
   "outputs": [
    {
     "name": "stdout",
     "output_type": "stream",
     "text": [
      "0 1 1\n",
      "1 1 2\n",
      "1 2 3\n",
      "2 3 5\n",
      "3 5 8\n",
      "5 8 13\n",
      "8 13 21\n",
      "13 21 34\n"
     ]
    }
   ],
   "source": [
    "fib(8)"
   ]
  },
  {
   "cell_type": "code",
   "execution_count": 182,
   "id": "69cc2987",
   "metadata": {},
   "outputs": [],
   "source": [
    "def nums(num,*varargs):\n",
    "    print(f\"num : {num}\")\n",
    "    for item in varargs:\n",
    "        print(item)"
   ]
  },
  {
   "cell_type": "code",
   "execution_count": 183,
   "id": "f911046a",
   "metadata": {},
   "outputs": [
    {
     "name": "stdout",
     "output_type": "stream",
     "text": [
      "num : 5\n",
      "25\n",
      "125\n"
     ]
    }
   ],
   "source": [
    "nums(5,5**2,5**3)"
   ]
  },
  {
   "cell_type": "code",
   "execution_count": 195,
   "id": "fdbab144",
   "metadata": {},
   "outputs": [],
   "source": [
    "def nums(num,**kwargs):\n",
    "    print(f\"num : {num}\")\n",
    "    for i in kwargs:\n",
    "        print(f\"{i}:{kwargs[i]}\")"
   ]
  },
  {
   "cell_type": "code",
   "execution_count": 197,
   "id": "756d71c9",
   "metadata": {},
   "outputs": [
    {
     "name": "stdout",
     "output_type": "stream",
     "text": [
      "num : 5\n",
      "square:25\n",
      "cube:125\n"
     ]
    }
   ],
   "source": [
    "nums(5,square=5**2,cube=5**3)"
   ]
  },
  {
   "cell_type": "code",
   "execution_count": 201,
   "id": "ead1b25f",
   "metadata": {},
   "outputs": [
    {
     "name": "stdout",
     "output_type": "stream",
     "text": [
      "name: banana\n",
      "color: red\n",
      "price: 89\n"
     ]
    }
   ],
   "source": [
    "def fruits(name,color=\"red\",price=55):\n",
    "    print(f\"name: {name}\")\n",
    "    print(f\"color: {color}\")\n",
    "    print(f\"price: {price}\")\n",
    "fruits(\"banana\",\"red\",89)"
   ]
  },
  {
   "cell_type": "code",
   "execution_count": 213,
   "id": "7fdfcf6b",
   "metadata": {},
   "outputs": [
    {
     "name": "stdout",
     "output_type": "stream",
     "text": [
      "Yes\n"
     ]
    }
   ],
   "source": [
    "def isPalindrome(str):\n",
    " \n",
    "    # Run loop from 0 to len/2\n",
    "    for i in range(0, int(len(str)/2)):\n",
    "        if str[i] != str[len(str)-i-1]:\n",
    "            return False\n",
    "    return True\n",
    " \n",
    "# main function\n",
    "s = \"malayalam\"\n",
    "ans = isPalindrome(s)\n",
    " \n",
    "if (ans):\n",
    "    print(\"Yes\")\n",
    "else:\n",
    "    print(\"No\")"
   ]
  },
  {
   "cell_type": "code",
   "execution_count": 215,
   "id": "69763b08",
   "metadata": {},
   "outputs": [
    {
     "name": "stdout",
     "output_type": "stream",
     "text": [
      "not\n",
      "not\n",
      "not\n",
      "yes\n"
     ]
    }
   ],
   "source": [
    "def is_palindrome(word):\n",
    "    i = 0\n",
    "    j = len(word) - 1\n",
    "    \n",
    "    while i < j:\n",
    "        if word[i] != word[j]:\n",
    "            print(\"not\")\n",
    "        i = i + 1\n",
    "        j = j - 1\n",
    "    print(\"yes\")\n",
    "b = \"Praxis\"\n",
    "\n",
    "is_palindrome(b)"
   ]
  },
  {
   "cell_type": "code",
   "execution_count": 220,
   "id": "83ab1426",
   "metadata": {},
   "outputs": [
    {
     "name": "stdout",
     "output_type": "stream",
     "text": [
      "not\n",
      "not\n"
     ]
    }
   ],
   "source": [
    "word = \"Paeetam\"\n",
    "i = 0\n",
    "j = len(word) - 1\n",
    "while i < j:\n",
    "    if word[i] != word[j]:\n",
    "        print(\"not\")\n",
    "    i = i + 1\n",
    "    j = j - 1\n",
    "    "
   ]
  },
  {
   "cell_type": "code",
   "execution_count": 223,
   "id": "59c2c9c3",
   "metadata": {},
   "outputs": [
    {
     "data": {
      "text/plain": [
       "[4, 10, 20, 45, 99]"
      ]
     },
     "execution_count": 223,
     "metadata": {},
     "output_type": "execute_result"
    }
   ],
   "source": [
    "\n",
    "# Python program to find smallest\n",
    "# number in a list\n",
    " \n",
    "# list of numbers\n",
    "list1 = [10, 20, 4, 45, 99]\n",
    " \n",
    "# sorting the list\n",
    "list1.sort()\n",
    "list1"
   ]
  },
  {
   "cell_type": "code",
   "execution_count": 224,
   "id": "459447d9",
   "metadata": {},
   "outputs": [
    {
     "data": {
      "text/plain": [
       "4"
      ]
     },
     "execution_count": 224,
     "metadata": {},
     "output_type": "execute_result"
    }
   ],
   "source": [
    "list1[0]"
   ]
  },
  {
   "cell_type": "code",
   "execution_count": 226,
   "id": "fb7e9916",
   "metadata": {},
   "outputs": [
    {
     "data": {
      "text/plain": [
       "False"
      ]
     },
     "execution_count": 226,
     "metadata": {},
     "output_type": "execute_result"
    }
   ],
   "source": [
    "\n",
    "# python program to check if x is a perfect square\n",
    "import math\n",
    " \n",
    "# A utility function that returns true if x is perfect square\n",
    "def isPerfectSquare(x):\n",
    "    s = int(math.sqrt(x))\n",
    "    return s*s == x\n",
    "\n",
    "isPerfectSquare(26)"
   ]
  },
  {
   "cell_type": "code",
   "execution_count": 230,
   "id": "b8e96327",
   "metadata": {},
   "outputs": [
    {
     "data": {
      "text/plain": [
       "[-45, 100, 200, 298, 900, 1000, 3579]"
      ]
     },
     "execution_count": 230,
     "metadata": {},
     "output_type": "execute_result"
    }
   ],
   "source": [
    "l = [1000,298,3579,100,200,-45,900]\n",
    "\n",
    "l.sort()\n",
    "l"
   ]
  },
  {
   "cell_type": "code",
   "execution_count": 232,
   "id": "2774b5a6",
   "metadata": {},
   "outputs": [
    {
     "data": {
      "text/plain": [
       "298"
      ]
     },
     "execution_count": 232,
     "metadata": {},
     "output_type": "execute_result"
    }
   ],
   "source": [
    "l[-4]"
   ]
  },
  {
   "cell_type": "code",
   "execution_count": 233,
   "id": "ec3efd8f",
   "metadata": {},
   "outputs": [
    {
     "data": {
      "text/plain": [
       "[298, 900, 1000, 3579]"
      ]
     },
     "execution_count": 233,
     "metadata": {},
     "output_type": "execute_result"
    }
   ],
   "source": [
    "l[-4:]"
   ]
  },
  {
   "cell_type": "code",
   "execution_count": 243,
   "id": "4f4ae5bf",
   "metadata": {},
   "outputs": [
    {
     "name": "stdout",
     "output_type": "stream",
     "text": [
      "-7 -14 "
     ]
    }
   ],
   "source": [
    "list1 = [12, -7, 5, 64, -14]\n",
    "for num in list1:\n",
    "    if num<0:\n",
    "        print(num,end = \" \")"
   ]
  },
  {
   "cell_type": "code",
   "execution_count": 245,
   "id": "453a43a4",
   "metadata": {},
   "outputs": [
    {
     "data": {
      "text/plain": [
       "[3, 5, 2, 9]"
      ]
     },
     "execution_count": 245,
     "metadata": {},
     "output_type": "execute_result"
    }
   ],
   "source": [
    "l = [2,3,5,2,9]\n",
    "l.remove(2)\n",
    "l"
   ]
  },
  {
   "cell_type": "code",
   "execution_count": 248,
   "id": "24ec05c8",
   "metadata": {},
   "outputs": [
    {
     "name": "stdout",
     "output_type": "stream",
     "text": [
      "[11, 5, 17, 23]\n"
     ]
    }
   ],
   "source": [
    "list1 = [11, 5, 17, 18, 18, 23, 50]\n",
    " \n",
    "# Iterate each element in list\n",
    "# and add them in variable total\n",
    "lst2 = []\n",
    "for i in list1:\n",
    "    if i%2 != 0:\n",
    "        lst2.append(i)\n",
    "print(lst2)"
   ]
  },
  {
   "cell_type": "code",
   "execution_count": 253,
   "id": "14536c8c",
   "metadata": {},
   "outputs": [
    {
     "name": "stdout",
     "output_type": "stream",
     "text": [
      "i am a hoof\n",
      "am hoof "
     ]
    }
   ],
   "source": [
    "#Python program to print even length words in a string\n",
    "inp = input()\n",
    "sentence = inp.split(\" \")\n",
    "for word in sentence:\n",
    "    if len(word)%2 == 0:\n",
    "        print(word,end = \" \")"
   ]
  },
  {
   "cell_type": "code",
   "execution_count": 251,
   "id": "4a3cac83",
   "metadata": {},
   "outputs": [
    {
     "name": "stdout",
     "output_type": "stream",
     "text": [
      "i am a boy\n",
      "['i', 'am', 'a', 'boy']\n"
     ]
    }
   ],
   "source": [
    "inp = input()\n",
    "x=inp.split(\" \")\n",
    "print(x)"
   ]
  },
  {
   "cell_type": "code",
   "execution_count": 252,
   "id": "8fd156be",
   "metadata": {},
   "outputs": [
    {
     "data": {
      "text/plain": [
       "['p', 'r', 'e', 'e']"
      ]
     },
     "execution_count": 252,
     "metadata": {},
     "output_type": "execute_result"
    }
   ],
   "source": [
    "list(\"pree\")"
   ]
  },
  {
   "cell_type": "code",
   "execution_count": 271,
   "id": "cac8aafb",
   "metadata": {},
   "outputs": [
    {
     "name": "stdout",
     "output_type": "stream",
     "text": [
      "Counter({'g': 8, 'c': 5, 'h': 4, 'f': 3, 'v': 3, 't': 2, 'r': 2, 's': 2, 'y': 1, 'e': 1, 'b': 1})\n",
      "8 4 1 2 2 5 3 2 1 3 1 \n",
      "g h y t r c f s e v b "
     ]
    },
    {
     "data": {
      "text/plain": [
       "8"
      ]
     },
     "execution_count": 271,
     "metadata": {},
     "output_type": "execute_result"
    }
   ],
   "source": [
    "from collections import Counter\n",
    "word = \"ghgyttrcgfcgsersccvgfhgfcvvbghgh\"\n",
    "x=Counter(word)\n",
    "print(x)\n",
    "for value in x.values():\n",
    "    print(value,end=\" \")\n",
    "print()\n",
    "for key in x.keys():\n",
    "    print(key,end=\" \")\n"
   ]
  },
  {
   "cell_type": "code",
   "execution_count": 273,
   "id": "96770a61",
   "metadata": {},
   "outputs": [
    {
     "name": "stdout",
     "output_type": "stream",
     "text": [
      "8\n"
     ]
    }
   ],
   "source": [
    "print(max(x.values()))"
   ]
  },
  {
   "cell_type": "code",
   "execution_count": 280,
   "id": "57a92eaf",
   "metadata": {},
   "outputs": [
    {
     "name": "stdout",
     "output_type": "stream",
     "text": [
      "[('ram', '15', '8'), ('laxman', 'sita'), ('krishna', 'akbar', '45'), ('', '')]\n"
     ]
    }
   ],
   "source": [
    "def remove_empty_tuples(lst1):\n",
    "    lst=[]\n",
    "    for item in lst1:\n",
    "        if item:\n",
    "            lst.append(item)\n",
    "    return lst\n",
    "lst1 = [(), ('ram','15','8'), (), ('laxman', 'sita'), \n",
    "          ('krishna', 'akbar', '45'), ('',''),()]\n",
    "print(remove_empty_tuples(lst1))\n",
    "                     "
   ]
  },
  {
   "cell_type": "code",
   "execution_count": null,
   "id": "92b69b01",
   "metadata": {},
   "outputs": [],
   "source": []
  }
 ],
 "metadata": {
  "kernelspec": {
   "display_name": "Python 3",
   "language": "python",
   "name": "python3"
  },
  "language_info": {
   "codemirror_mode": {
    "name": "ipython",
    "version": 3
   },
   "file_extension": ".py",
   "mimetype": "text/x-python",
   "name": "python",
   "nbconvert_exporter": "python",
   "pygments_lexer": "ipython3",
   "version": "3.8.8"
  }
 },
 "nbformat": 4,
 "nbformat_minor": 5
}
